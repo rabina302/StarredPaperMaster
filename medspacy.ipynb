{
  "cells": [
    {
      "cell_type": "markdown",
      "metadata": {
        "id": "view-in-github",
        "colab_type": "text"
      },
      "source": [
        "<a href=\"https://colab.research.google.com/github/rabina302/StarredPaperMaster/blob/main/medspacy.ipynb\" target=\"_parent\"><img src=\"https://colab.research.google.com/assets/colab-badge.svg\" alt=\"Open In Colab\"/></a>"
      ]
    },
    {
      "cell_type": "code",
      "execution_count": 132,
      "metadata": {
        "id": "Gqy42r_kWyvn"
      },
      "outputs": [],
      "source": [
        "import pandas as pd\n",
        "import numpy as np\n",
        "import medspacy\n",
        "from medspacy.ner import TargetMatcher, TargetRule\n",
        "from spacy.tokens import Span\n",
        "from sklearn.model_selection import train_test_split\n",
        "from tensorflow.keras.preprocessing.sequence import pad_sequences\n",
        "from tensorflow.keras.models import Sequential\n",
        "from tensorflow.keras.layers import LSTM, Dropout, Dense\n",
        "from tensorflow.keras.callbacks import EarlyStopping"
      ]
    },
    {
      "cell_type": "code",
      "execution_count": 151,
      "metadata": {
        "id": "rgSATtcaW3TU"
      },
      "outputs": [],
      "source": [
        "# Load MedSpaCy model\n",
        "nlp = medspacy.load()"
      ]
    },
    {
      "cell_type": "code",
      "source": [
        "nlp.pipe_names"
      ],
      "metadata": {
        "id": "yWK9d1kTF-7e",
        "outputId": "957e1ea3-3e23-447d-c8dd-5b81837213ae",
        "colab": {
          "base_uri": "https://localhost:8080/"
        }
      },
      "execution_count": 152,
      "outputs": [
        {
          "output_type": "execute_result",
          "data": {
            "text/plain": [
              "['medspacy_pyrush', 'medspacy_target_matcher', 'medspacy_context']"
            ]
          },
          "metadata": {},
          "execution_count": 152
        }
      ]
    },
    {
      "cell_type": "code",
      "source": [],
      "metadata": {
        "id": "T4tf7Hn7s_aq"
      },
      "execution_count": null,
      "outputs": []
    },
    {
      "cell_type": "code",
      "execution_count": 153,
      "metadata": {
        "id": "58RtTbW5XEnQ"
      },
      "outputs": [],
      "source": [
        "# # Function to process text using MedSpaCy and extract features\n",
        "# def process_text(text):\n",
        "#     doc = nlp(text)\n",
        "#     features = []\n",
        "#     for ent in doc.ents:\n",
        "#         if ent._.category == \"PROBLEM\":  # Access the category attribute\n",
        "#             features.append(ent.start)\n",
        "#     if not features:  # If no features were found\n",
        "#         features = [0]  # Use a default feature\n",
        "#     return features\n"
      ]
    },
    {
      "cell_type": "code",
      "source": [
        "# from google.colab import drive\n",
        "# drive.mount('/content/drive')"
      ],
      "metadata": {
        "id": "XWeoWUs3yu4b"
      },
      "execution_count": null,
      "outputs": []
    },
    {
      "cell_type": "code",
      "execution_count": 154,
      "metadata": {
        "id": "MpvqDJPRXI6c"
      },
      "outputs": [],
      "source": [
        "# Read CSV file\n",
        "df = pd.read_csv('/content/drive/MyDrive/StarredPaper/Data/data.csv')\n",
        "df = df.dropna(subset=['text', 'label']) # Remove all rows with missing values\n",
        "df['text'] = df['text'].str.replace(r'[^\\w\\s]+', '', regex=True) # Remove all punctuation\n",
        "df['text'] = df['text'].str.encode('ascii', 'ignore').str.decode('ascii') # Remove all non-ASCII chars\n",
        "df['label'] = df['label'].str.lower()"
      ]
    },
    {
      "cell_type": "code",
      "execution_count": 155,
      "metadata": {
        "id": "JVnElvtpKHoy"
      },
      "outputs": [],
      "source": [
        "# Process text and extract features\n",
        "# df['features'] = df['text'].apply(process_text)"
      ]
    },
    {
      "cell_type": "code",
      "source": [
        "features = []\n",
        "for text in df[\"text\"]:\n",
        "    doc = nlp(text)\n",
        "    lemmatized_tokens = [token.lemma_ for token in doc if not token.is_stop and token.is_alpha]\n",
        "    preprocessed_text = ' '.join(lemmatized_tokens)\n",
        "    features.append(preprocessed_text)"
      ],
      "metadata": {
        "id": "FYygT-5gtDtp"
      },
      "execution_count": null,
      "outputs": []
    },
    {
      "cell_type": "code",
      "source": [
        "tfidf_features = TfidfVectorizer().fit_transform(features)\n",
        "\n",
        "# Convert the sparse matrix to a dense array for inspection\n",
        "tfidf_features_array = tfidf_features.toarray()\n",
        "\n",
        "# Print the extracted features\n",
        "print(\"Extracted TF-IDF features:\")\n",
        "print(tfidf_features_array)"
      ],
      "metadata": {
        "id": "BOYTv4T1tKsx"
      },
      "execution_count": null,
      "outputs": []
    },
    {
      "cell_type": "code",
      "source": [
        "# Map string labels to numeric values\n",
        "label_mapping = {'true': 0, 'fake': 1}\n",
        "df['label'] = df['label'].map(label_mapping)"
      ],
      "metadata": {
        "id": "tnII-NkCv_i6"
      },
      "execution_count": 123,
      "outputs": []
    },
    {
      "cell_type": "code",
      "source": [
        "# # Prepare features and labels\n",
        "# max_len = max(df['features'].apply(len))\n",
        "# X = pad_sequences(df['features'], maxlen=max_len, padding='post')\n",
        "# X = X[:, :, np.newaxis]  # Add an additional dimension for features\n",
        "y = df['label']"
      ],
      "metadata": {
        "id": "vqIyRz3uvTLH"
      },
      "execution_count": 124,
      "outputs": []
    },
    {
      "cell_type": "code",
      "source": [
        "# Split data into training and testing sets\n",
        "X_train, X_test, y_train, y_test = train_test_split(tfidf_features_array, y, test_size=0.2, random_state=42)"
      ],
      "metadata": {
        "id": "FE-W2DSVuD3l"
      },
      "execution_count": 125,
      "outputs": []
    },
    {
      "cell_type": "code",
      "source": [
        "# Define LSTM model\n",
        "model = Sequential()\n",
        "model.add(LSTM(units=100, return_sequences=True, input_shape=(X_train.shape[1], X_train.shape[2])))\n",
        "model.add(LSTM(units=50, return_sequences=True))\n",
        "model.add(LSTM(units=25))\n",
        "model.add(Dropout(0.2))\n",
        "model.add(Dense(units=10, activation='relu'))\n",
        "model.add(Dense(units=1, activation='sigmoid'))\n",
        "\n",
        "# Compile model\n",
        "model.compile(optimizer='adam', loss='binary_crossentropy', metrics=['accuracy'])\n",
        "\n",
        "# Define early stopping callback\n",
        "early_stopping = EarlyStopping(monitor='val_loss', patience=3, restore_best_weights=True)\n",
        "\n",
        "# Train model\n",
        "history=model.fit(X_train, y_train, epochs=100, batch_size=64, validation_data=(X_test, y_test))"
      ],
      "metadata": {
        "colab": {
          "base_uri": "https://localhost:8080/"
        },
        "id": "cqPc44uUsmrh",
        "outputId": "579a26ca-8981-4ed9-eddf-749e0a2b4aa1"
      },
      "execution_count": 130,
      "outputs": [
        {
          "output_type": "stream",
          "name": "stdout",
          "text": [
            "Epoch 1/100\n",
            "15/15 [==============================] - 8s 106ms/step - loss: 0.6931 - accuracy: 0.4989 - val_loss: 0.6934 - val_accuracy: 0.4286\n",
            "Epoch 2/100\n",
            "15/15 [==============================] - 0s 11ms/step - loss: 0.6931 - accuracy: 0.5120 - val_loss: 0.6937 - val_accuracy: 0.4286\n",
            "Epoch 3/100\n",
            "15/15 [==============================] - 0s 13ms/step - loss: 0.6931 - accuracy: 0.5120 - val_loss: 0.6940 - val_accuracy: 0.4286\n",
            "Epoch 4/100\n",
            "15/15 [==============================] - 0s 12ms/step - loss: 0.6930 - accuracy: 0.5120 - val_loss: 0.6941 - val_accuracy: 0.4286\n",
            "Epoch 5/100\n",
            "15/15 [==============================] - 0s 14ms/step - loss: 0.6930 - accuracy: 0.5120 - val_loss: 0.6944 - val_accuracy: 0.4286\n",
            "Epoch 6/100\n",
            "15/15 [==============================] - 0s 12ms/step - loss: 0.6930 - accuracy: 0.5120 - val_loss: 0.6945 - val_accuracy: 0.4286\n",
            "Epoch 7/100\n",
            "15/15 [==============================] - 0s 17ms/step - loss: 0.6930 - accuracy: 0.5120 - val_loss: 0.6948 - val_accuracy: 0.4286\n",
            "Epoch 8/100\n",
            "15/15 [==============================] - 0s 20ms/step - loss: 0.6929 - accuracy: 0.5120 - val_loss: 0.6950 - val_accuracy: 0.4286\n",
            "Epoch 9/100\n",
            "15/15 [==============================] - 0s 23ms/step - loss: 0.6930 - accuracy: 0.5120 - val_loss: 0.6950 - val_accuracy: 0.4286\n",
            "Epoch 10/100\n",
            "15/15 [==============================] - 0s 19ms/step - loss: 0.6929 - accuracy: 0.5120 - val_loss: 0.6952 - val_accuracy: 0.4286\n",
            "Epoch 11/100\n",
            "15/15 [==============================] - 0s 17ms/step - loss: 0.6929 - accuracy: 0.5120 - val_loss: 0.6952 - val_accuracy: 0.4286\n",
            "Epoch 12/100\n",
            "15/15 [==============================] - 0s 16ms/step - loss: 0.6929 - accuracy: 0.5120 - val_loss: 0.6952 - val_accuracy: 0.4286\n",
            "Epoch 13/100\n",
            "15/15 [==============================] - 0s 17ms/step - loss: 0.6929 - accuracy: 0.5120 - val_loss: 0.6952 - val_accuracy: 0.4286\n",
            "Epoch 14/100\n",
            "15/15 [==============================] - 0s 16ms/step - loss: 0.6929 - accuracy: 0.5120 - val_loss: 0.6951 - val_accuracy: 0.4286\n",
            "Epoch 15/100\n",
            "15/15 [==============================] - 0s 19ms/step - loss: 0.6929 - accuracy: 0.5120 - val_loss: 0.6953 - val_accuracy: 0.4286\n",
            "Epoch 16/100\n",
            "15/15 [==============================] - 0s 21ms/step - loss: 0.6929 - accuracy: 0.5120 - val_loss: 0.6956 - val_accuracy: 0.4286\n",
            "Epoch 17/100\n",
            "15/15 [==============================] - 0s 24ms/step - loss: 0.6929 - accuracy: 0.5120 - val_loss: 0.6956 - val_accuracy: 0.4286\n",
            "Epoch 18/100\n",
            "15/15 [==============================] - 0s 19ms/step - loss: 0.6929 - accuracy: 0.5120 - val_loss: 0.6958 - val_accuracy: 0.4286\n",
            "Epoch 19/100\n",
            "15/15 [==============================] - 0s 22ms/step - loss: 0.6929 - accuracy: 0.5120 - val_loss: 0.6958 - val_accuracy: 0.4286\n",
            "Epoch 20/100\n",
            "15/15 [==============================] - 0s 16ms/step - loss: 0.6929 - accuracy: 0.5120 - val_loss: 0.6961 - val_accuracy: 0.4286\n",
            "Epoch 21/100\n",
            "15/15 [==============================] - 0s 12ms/step - loss: 0.6929 - accuracy: 0.5120 - val_loss: 0.6960 - val_accuracy: 0.4286\n",
            "Epoch 22/100\n",
            "15/15 [==============================] - 0s 11ms/step - loss: 0.6929 - accuracy: 0.5120 - val_loss: 0.6961 - val_accuracy: 0.4286\n",
            "Epoch 23/100\n",
            "15/15 [==============================] - 0s 12ms/step - loss: 0.6929 - accuracy: 0.5120 - val_loss: 0.6962 - val_accuracy: 0.4286\n",
            "Epoch 24/100\n",
            "15/15 [==============================] - 0s 11ms/step - loss: 0.6929 - accuracy: 0.5120 - val_loss: 0.6961 - val_accuracy: 0.4286\n",
            "Epoch 25/100\n",
            "15/15 [==============================] - 0s 10ms/step - loss: 0.6929 - accuracy: 0.5120 - val_loss: 0.6961 - val_accuracy: 0.4286\n",
            "Epoch 26/100\n",
            "15/15 [==============================] - 0s 12ms/step - loss: 0.6929 - accuracy: 0.5120 - val_loss: 0.6961 - val_accuracy: 0.4286\n",
            "Epoch 27/100\n",
            "15/15 [==============================] - 0s 13ms/step - loss: 0.6929 - accuracy: 0.5120 - val_loss: 0.6961 - val_accuracy: 0.4286\n",
            "Epoch 28/100\n",
            "15/15 [==============================] - 0s 12ms/step - loss: 0.6929 - accuracy: 0.5120 - val_loss: 0.6960 - val_accuracy: 0.4286\n",
            "Epoch 29/100\n",
            "15/15 [==============================] - 0s 13ms/step - loss: 0.6929 - accuracy: 0.5120 - val_loss: 0.6961 - val_accuracy: 0.4286\n",
            "Epoch 30/100\n",
            "15/15 [==============================] - 0s 12ms/step - loss: 0.6929 - accuracy: 0.5120 - val_loss: 0.6961 - val_accuracy: 0.4286\n",
            "Epoch 31/100\n",
            "15/15 [==============================] - 0s 17ms/step - loss: 0.6929 - accuracy: 0.5120 - val_loss: 0.6962 - val_accuracy: 0.4286\n",
            "Epoch 32/100\n",
            "15/15 [==============================] - 0s 14ms/step - loss: 0.6929 - accuracy: 0.5120 - val_loss: 0.6962 - val_accuracy: 0.4286\n",
            "Epoch 33/100\n",
            "15/15 [==============================] - 0s 13ms/step - loss: 0.6929 - accuracy: 0.5120 - val_loss: 0.6961 - val_accuracy: 0.4286\n",
            "Epoch 34/100\n",
            "15/15 [==============================] - 0s 13ms/step - loss: 0.6929 - accuracy: 0.5120 - val_loss: 0.6961 - val_accuracy: 0.4286\n",
            "Epoch 35/100\n",
            "15/15 [==============================] - 0s 13ms/step - loss: 0.6929 - accuracy: 0.5120 - val_loss: 0.6960 - val_accuracy: 0.4286\n",
            "Epoch 36/100\n",
            "15/15 [==============================] - 0s 14ms/step - loss: 0.6929 - accuracy: 0.5120 - val_loss: 0.6960 - val_accuracy: 0.4286\n",
            "Epoch 37/100\n",
            "15/15 [==============================] - 0s 13ms/step - loss: 0.6929 - accuracy: 0.5120 - val_loss: 0.6961 - val_accuracy: 0.4286\n",
            "Epoch 38/100\n",
            "15/15 [==============================] - 0s 13ms/step - loss: 0.6929 - accuracy: 0.5120 - val_loss: 0.6960 - val_accuracy: 0.4286\n",
            "Epoch 39/100\n",
            "15/15 [==============================] - 0s 13ms/step - loss: 0.6929 - accuracy: 0.5120 - val_loss: 0.6961 - val_accuracy: 0.4286\n",
            "Epoch 40/100\n",
            "15/15 [==============================] - 0s 13ms/step - loss: 0.6929 - accuracy: 0.5120 - val_loss: 0.6964 - val_accuracy: 0.4286\n",
            "Epoch 41/100\n",
            "15/15 [==============================] - 0s 14ms/step - loss: 0.6929 - accuracy: 0.5120 - val_loss: 0.6964 - val_accuracy: 0.4286\n",
            "Epoch 42/100\n",
            "15/15 [==============================] - 0s 13ms/step - loss: 0.6929 - accuracy: 0.5120 - val_loss: 0.6963 - val_accuracy: 0.4286\n",
            "Epoch 43/100\n",
            "15/15 [==============================] - 0s 12ms/step - loss: 0.6929 - accuracy: 0.5120 - val_loss: 0.6964 - val_accuracy: 0.4286\n",
            "Epoch 44/100\n",
            "15/15 [==============================] - 0s 12ms/step - loss: 0.6929 - accuracy: 0.5120 - val_loss: 0.6963 - val_accuracy: 0.4286\n",
            "Epoch 45/100\n",
            "15/15 [==============================] - 0s 13ms/step - loss: 0.6929 - accuracy: 0.5120 - val_loss: 0.6964 - val_accuracy: 0.4286\n",
            "Epoch 46/100\n",
            "15/15 [==============================] - 0s 16ms/step - loss: 0.6929 - accuracy: 0.5120 - val_loss: 0.6964 - val_accuracy: 0.4286\n",
            "Epoch 47/100\n",
            "15/15 [==============================] - 0s 13ms/step - loss: 0.6929 - accuracy: 0.5120 - val_loss: 0.6966 - val_accuracy: 0.4286\n",
            "Epoch 48/100\n",
            "15/15 [==============================] - 0s 13ms/step - loss: 0.6929 - accuracy: 0.5120 - val_loss: 0.6966 - val_accuracy: 0.4286\n",
            "Epoch 49/100\n",
            "15/15 [==============================] - 0s 13ms/step - loss: 0.6929 - accuracy: 0.5120 - val_loss: 0.6967 - val_accuracy: 0.4286\n",
            "Epoch 50/100\n",
            "15/15 [==============================] - 0s 13ms/step - loss: 0.6929 - accuracy: 0.5120 - val_loss: 0.6967 - val_accuracy: 0.4286\n",
            "Epoch 51/100\n",
            "15/15 [==============================] - 0s 15ms/step - loss: 0.6929 - accuracy: 0.5120 - val_loss: 0.6968 - val_accuracy: 0.4286\n",
            "Epoch 52/100\n",
            "15/15 [==============================] - 0s 13ms/step - loss: 0.6929 - accuracy: 0.5120 - val_loss: 0.6968 - val_accuracy: 0.4286\n",
            "Epoch 53/100\n",
            "15/15 [==============================] - 0s 13ms/step - loss: 0.6929 - accuracy: 0.5120 - val_loss: 0.6969 - val_accuracy: 0.4286\n",
            "Epoch 54/100\n",
            "15/15 [==============================] - 0s 13ms/step - loss: 0.6929 - accuracy: 0.5120 - val_loss: 0.6968 - val_accuracy: 0.4286\n",
            "Epoch 55/100\n",
            "15/15 [==============================] - 0s 14ms/step - loss: 0.6929 - accuracy: 0.5120 - val_loss: 0.6968 - val_accuracy: 0.4286\n",
            "Epoch 56/100\n",
            "15/15 [==============================] - 0s 14ms/step - loss: 0.6929 - accuracy: 0.5120 - val_loss: 0.6969 - val_accuracy: 0.4286\n",
            "Epoch 57/100\n",
            "15/15 [==============================] - 0s 11ms/step - loss: 0.6929 - accuracy: 0.5120 - val_loss: 0.6967 - val_accuracy: 0.4286\n",
            "Epoch 58/100\n",
            "15/15 [==============================] - 0s 11ms/step - loss: 0.6929 - accuracy: 0.5120 - val_loss: 0.6967 - val_accuracy: 0.4286\n",
            "Epoch 59/100\n",
            "15/15 [==============================] - 0s 11ms/step - loss: 0.6929 - accuracy: 0.5120 - val_loss: 0.6966 - val_accuracy: 0.4286\n",
            "Epoch 60/100\n",
            "15/15 [==============================] - 0s 14ms/step - loss: 0.6929 - accuracy: 0.5120 - val_loss: 0.6967 - val_accuracy: 0.4286\n",
            "Epoch 61/100\n",
            "15/15 [==============================] - 0s 20ms/step - loss: 0.6929 - accuracy: 0.5120 - val_loss: 0.6967 - val_accuracy: 0.4286\n",
            "Epoch 62/100\n",
            "15/15 [==============================] - 0s 27ms/step - loss: 0.6929 - accuracy: 0.5120 - val_loss: 0.6968 - val_accuracy: 0.4286\n",
            "Epoch 63/100\n",
            "15/15 [==============================] - 0s 28ms/step - loss: 0.6929 - accuracy: 0.5120 - val_loss: 0.6967 - val_accuracy: 0.4286\n",
            "Epoch 64/100\n",
            "15/15 [==============================] - 0s 23ms/step - loss: 0.6929 - accuracy: 0.5120 - val_loss: 0.6968 - val_accuracy: 0.4286\n",
            "Epoch 65/100\n",
            "15/15 [==============================] - 0s 19ms/step - loss: 0.6929 - accuracy: 0.5120 - val_loss: 0.6967 - val_accuracy: 0.4286\n",
            "Epoch 66/100\n",
            "15/15 [==============================] - 0s 20ms/step - loss: 0.6929 - accuracy: 0.5120 - val_loss: 0.6968 - val_accuracy: 0.4286\n",
            "Epoch 67/100\n",
            "15/15 [==============================] - 0s 19ms/step - loss: 0.6929 - accuracy: 0.5120 - val_loss: 0.6966 - val_accuracy: 0.4286\n",
            "Epoch 68/100\n",
            "15/15 [==============================] - 0s 22ms/step - loss: 0.6929 - accuracy: 0.5120 - val_loss: 0.6966 - val_accuracy: 0.4286\n",
            "Epoch 69/100\n",
            "15/15 [==============================] - 1s 49ms/step - loss: 0.6929 - accuracy: 0.5120 - val_loss: 0.6966 - val_accuracy: 0.4286\n",
            "Epoch 70/100\n",
            "15/15 [==============================] - 1s 38ms/step - loss: 0.6929 - accuracy: 0.5120 - val_loss: 0.6966 - val_accuracy: 0.4286\n",
            "Epoch 71/100\n",
            "15/15 [==============================] - 1s 36ms/step - loss: 0.6929 - accuracy: 0.5120 - val_loss: 0.6967 - val_accuracy: 0.4286\n",
            "Epoch 72/100\n",
            "15/15 [==============================] - 1s 38ms/step - loss: 0.6929 - accuracy: 0.5120 - val_loss: 0.6968 - val_accuracy: 0.4286\n",
            "Epoch 73/100\n",
            "15/15 [==============================] - 1s 44ms/step - loss: 0.6929 - accuracy: 0.5120 - val_loss: 0.6967 - val_accuracy: 0.4286\n",
            "Epoch 74/100\n",
            "15/15 [==============================] - 1s 35ms/step - loss: 0.6929 - accuracy: 0.5120 - val_loss: 0.6965 - val_accuracy: 0.4286\n",
            "Epoch 75/100\n",
            "15/15 [==============================] - 1s 41ms/step - loss: 0.6929 - accuracy: 0.5120 - val_loss: 0.6964 - val_accuracy: 0.4286\n",
            "Epoch 76/100\n",
            "15/15 [==============================] - 0s 26ms/step - loss: 0.6929 - accuracy: 0.5120 - val_loss: 0.6963 - val_accuracy: 0.4286\n",
            "Epoch 77/100\n",
            "15/15 [==============================] - 0s 33ms/step - loss: 0.6929 - accuracy: 0.5120 - val_loss: 0.6964 - val_accuracy: 0.4286\n",
            "Epoch 78/100\n",
            "15/15 [==============================] - 0s 23ms/step - loss: 0.6929 - accuracy: 0.5120 - val_loss: 0.6963 - val_accuracy: 0.4286\n",
            "Epoch 79/100\n",
            "15/15 [==============================] - 0s 16ms/step - loss: 0.6929 - accuracy: 0.5120 - val_loss: 0.6963 - val_accuracy: 0.4286\n",
            "Epoch 80/100\n",
            "15/15 [==============================] - 0s 13ms/step - loss: 0.6929 - accuracy: 0.5120 - val_loss: 0.6963 - val_accuracy: 0.4286\n",
            "Epoch 81/100\n",
            "15/15 [==============================] - 0s 14ms/step - loss: 0.6929 - accuracy: 0.5120 - val_loss: 0.6965 - val_accuracy: 0.4286\n",
            "Epoch 82/100\n",
            "15/15 [==============================] - 0s 13ms/step - loss: 0.6929 - accuracy: 0.5120 - val_loss: 0.6967 - val_accuracy: 0.4286\n",
            "Epoch 83/100\n",
            "15/15 [==============================] - 0s 14ms/step - loss: 0.6929 - accuracy: 0.5120 - val_loss: 0.6966 - val_accuracy: 0.4286\n",
            "Epoch 84/100\n",
            "15/15 [==============================] - 0s 12ms/step - loss: 0.6929 - accuracy: 0.5120 - val_loss: 0.6964 - val_accuracy: 0.4286\n",
            "Epoch 85/100\n",
            "15/15 [==============================] - 0s 13ms/step - loss: 0.6929 - accuracy: 0.5120 - val_loss: 0.6965 - val_accuracy: 0.4286\n",
            "Epoch 86/100\n",
            "15/15 [==============================] - 0s 13ms/step - loss: 0.6929 - accuracy: 0.5120 - val_loss: 0.6965 - val_accuracy: 0.4286\n",
            "Epoch 87/100\n",
            "15/15 [==============================] - 0s 13ms/step - loss: 0.6929 - accuracy: 0.5120 - val_loss: 0.6964 - val_accuracy: 0.4286\n",
            "Epoch 88/100\n",
            "15/15 [==============================] - 0s 13ms/step - loss: 0.6929 - accuracy: 0.5120 - val_loss: 0.6964 - val_accuracy: 0.4286\n",
            "Epoch 89/100\n",
            "15/15 [==============================] - 0s 12ms/step - loss: 0.6929 - accuracy: 0.5120 - val_loss: 0.6963 - val_accuracy: 0.4286\n",
            "Epoch 90/100\n",
            "15/15 [==============================] - 0s 12ms/step - loss: 0.6929 - accuracy: 0.5120 - val_loss: 0.6965 - val_accuracy: 0.4286\n",
            "Epoch 91/100\n",
            "15/15 [==============================] - 0s 13ms/step - loss: 0.6929 - accuracy: 0.5120 - val_loss: 0.6966 - val_accuracy: 0.4286\n",
            "Epoch 92/100\n",
            "15/15 [==============================] - 0s 12ms/step - loss: 0.6929 - accuracy: 0.5120 - val_loss: 0.6968 - val_accuracy: 0.4286\n",
            "Epoch 93/100\n",
            "15/15 [==============================] - 0s 13ms/step - loss: 0.6929 - accuracy: 0.5120 - val_loss: 0.6967 - val_accuracy: 0.4286\n",
            "Epoch 94/100\n",
            "15/15 [==============================] - 0s 12ms/step - loss: 0.6929 - accuracy: 0.5120 - val_loss: 0.6966 - val_accuracy: 0.4286\n",
            "Epoch 95/100\n",
            "15/15 [==============================] - 0s 12ms/step - loss: 0.6929 - accuracy: 0.5120 - val_loss: 0.6967 - val_accuracy: 0.4286\n",
            "Epoch 96/100\n",
            "15/15 [==============================] - 0s 17ms/step - loss: 0.6929 - accuracy: 0.5120 - val_loss: 0.6967 - val_accuracy: 0.4286\n",
            "Epoch 97/100\n",
            "15/15 [==============================] - 0s 13ms/step - loss: 0.6929 - accuracy: 0.5120 - val_loss: 0.6970 - val_accuracy: 0.4286\n",
            "Epoch 98/100\n",
            "15/15 [==============================] - 0s 13ms/step - loss: 0.6929 - accuracy: 0.5120 - val_loss: 0.6968 - val_accuracy: 0.4286\n",
            "Epoch 99/100\n",
            "15/15 [==============================] - 0s 13ms/step - loss: 0.6929 - accuracy: 0.5120 - val_loss: 0.6967 - val_accuracy: 0.4286\n",
            "Epoch 100/100\n",
            "15/15 [==============================] - 0s 12ms/step - loss: 0.6929 - accuracy: 0.5120 - val_loss: 0.6967 - val_accuracy: 0.4286\n"
          ]
        }
      ]
    },
    {
      "cell_type": "code",
      "source": [
        "# Evaluate model\n",
        "loss, accuracy = model.evaluate(X_test, y_test)\n",
        "print(f'Test Accuracy: {accuracy}')\n",
        "\n",
        "# Plot training history\n",
        "import matplotlib.pyplot as plt\n",
        "\n",
        "plt.plot(history.history['accuracy'], label='accuracy')\n",
        "plt.plot(history.history['val_accuracy'], label='val_accuracy')\n",
        "plt.xlabel('Epoch')\n",
        "plt.ylabel('Accuracy')\n",
        "plt.legend(loc='lower right')\n",
        "plt.show()\n"
      ],
      "metadata": {
        "colab": {
          "base_uri": "https://localhost:8080/",
          "height": 485
        },
        "id": "7ZQVBecg40cf",
        "outputId": "99383481-c7ad-4a3f-94ec-af9f8473e42c"
      },
      "execution_count": 159,
      "outputs": [
        {
          "output_type": "stream",
          "name": "stdout",
          "text": [
            "8/8 [==============================] - 0s 6ms/step - loss: 0.6967 - accuracy: 0.4286\n",
            "Test Accuracy: 0.4285714328289032\n"
          ]
        },
        {
          "output_type": "display_data",
          "data": {
            "text/plain": [
              "<Figure size 640x480 with 1 Axes>"
            ],
            "image/png": "[encoded data removed]"
          },
          "metadata": {}
        }
      ]
    }
  ],
  "metadata": {
    "colab": {
      "provenance": [],
      "mount_file_id": "1F8FkSKQf8Lyzv-hPNfnAc79EsOdWU8DG",
      "authorship_tag": "ABX9TyOQhUXAXIGS66xxy7ih1Zaz",
      "include_colab_link": true
    },
    "kernelspec": {
      "display_name": "Python 3",
      "name": "python3"
    },
    "language_info": {
      "name": "python"
    }
  },
  "nbformat": 4,
  "nbformat_minor": 0
}