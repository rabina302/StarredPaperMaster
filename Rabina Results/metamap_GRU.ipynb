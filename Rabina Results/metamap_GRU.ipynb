{
  "cells": [
    {
      "cell_type": "code",
      "execution_count": 1,
      "metadata": {
        "id": "SHSEbSNucKaN"
      },
      "outputs": [
        {
          "name": "stderr",
          "output_type": "stream",
          "text": [
            "2024-03-04 01:59:48.300950: E external/local_xla/xla/stream_executor/cuda/cuda_dnn.cc:9261] Unable to register cuDNN factory: Attempting to register factory for plugin cuDNN when one has already been registered\n",
            "2024-03-04 01:59:48.301035: E external/local_xla/xla/stream_executor/cuda/cuda_fft.cc:607] Unable to register cuFFT factory: Attempting to register factory for plugin cuFFT when one has already been registered\n",
            "2024-03-04 01:59:48.302790: E external/local_xla/xla/stream_executor/cuda/cuda_blas.cc:1515] Unable to register cuBLAS factory: Attempting to register factory for plugin cuBLAS when one has already been registered\n",
            "2024-03-04 01:59:48.311903: I tensorflow/core/platform/cpu_feature_guard.cc:182] This TensorFlow binary is optimized to use available CPU instructions in performance-critical operations.\n",
            "To enable the following instructions: AVX2 FMA, in other operations, rebuild TensorFlow with the appropriate compiler flags.\n",
            "2024-03-04 01:59:49.126221: W tensorflow/compiler/tf2tensorrt/utils/py_utils.cc:38] TF-TRT Warning: Could not find TensorRT\n",
            "[nltk_data] Downloading package stopwords to /root/nltk_data...\n",
            "[nltk_data]   Package stopwords is already up-to-date!\n"
          ]
        },
        {
          "data": {
            "text/plain": [
              "True"
            ]
          },
          "execution_count": 1,
          "metadata": {},
          "output_type": "execute_result"
        }
      ],
      "source": [
        "import numpy as np\n",
        "import pandas as pd\n",
        "from sklearn.model_selection import train_test_split\n",
        "from sklearn.preprocessing import LabelEncoder\n",
        "from sklearn.metrics import accuracy_score, precision_score, recall_score, f1_score, classification_report, confusion_matrix\n",
        "import matplotlib.pyplot as plt\n",
        "import seaborn as sns\n",
        "from tensorflow.keras.models import Sequential\n",
        "from tensorflow.keras.layers import Dropout, Dense, GRU, BatchNormalization\n",
        "\n",
        "import nltk\n",
        "nltk.download('stopwords')"
      ]
    },
    {
      "cell_type": "code",
      "execution_count": 2,
      "metadata": {
        "colab": {
          "base_uri": "https://localhost:8080/",
          "height": 236
        },
        "id": "iZ4BWnOcBtY1",
        "outputId": "84b3a014-1f2f-4a2c-e481-f3113a7114ab"
      },
      "outputs": [
        {
          "data": {
            "text/html": [
              "<div>\n",
              "<style scoped>\n",
              "    .dataframe tbody tr th:only-of-type {\n",
              "        vertical-align: middle;\n",
              "    }\n",
              "\n",
              "    .dataframe tbody tr th {\n",
              "        vertical-align: top;\n",
              "    }\n",
              "\n",
              "    .dataframe thead th {\n",
              "        text-align: right;\n",
              "    }\n",
              "</style>\n",
              "<table border=\"1\" class=\"dataframe\">\n",
              "  <thead>\n",
              "    <tr style=\"text-align: right;\">\n",
              "      <th></th>\n",
              "      <th>label</th>\n",
              "      <th>aapp</th>\n",
              "      <th>acab</th>\n",
              "      <th>acty</th>\n",
              "      <th>aggp</th>\n",
              "      <th>amas</th>\n",
              "      <th>amph</th>\n",
              "      <th>anab</th>\n",
              "      <th>anim</th>\n",
              "      <th>anst</th>\n",
              "      <th>...</th>\n",
              "      <th>shro</th>\n",
              "      <th>socb</th>\n",
              "      <th>sosy</th>\n",
              "      <th>spco</th>\n",
              "      <th>tisu</th>\n",
              "      <th>tmco</th>\n",
              "      <th>topp</th>\n",
              "      <th>virs</th>\n",
              "      <th>vita</th>\n",
              "      <th>vtbt</th>\n",
              "    </tr>\n",
              "  </thead>\n",
              "  <tbody>\n",
              "    <tr>\n",
              "      <th>0</th>\n",
              "      <td>Fake</td>\n",
              "      <td>1</td>\n",
              "      <td>0</td>\n",
              "      <td>3</td>\n",
              "      <td>0</td>\n",
              "      <td>0</td>\n",
              "      <td>0</td>\n",
              "      <td>0</td>\n",
              "      <td>0</td>\n",
              "      <td>0</td>\n",
              "      <td>...</td>\n",
              "      <td>0</td>\n",
              "      <td>0</td>\n",
              "      <td>0</td>\n",
              "      <td>0</td>\n",
              "      <td>0</td>\n",
              "      <td>1</td>\n",
              "      <td>1</td>\n",
              "      <td>0</td>\n",
              "      <td>0</td>\n",
              "      <td>0</td>\n",
              "    </tr>\n",
              "    <tr>\n",
              "      <th>1</th>\n",
              "      <td>Fake</td>\n",
              "      <td>1</td>\n",
              "      <td>0</td>\n",
              "      <td>0</td>\n",
              "      <td>0</td>\n",
              "      <td>0</td>\n",
              "      <td>0</td>\n",
              "      <td>0</td>\n",
              "      <td>1</td>\n",
              "      <td>0</td>\n",
              "      <td>...</td>\n",
              "      <td>0</td>\n",
              "      <td>0</td>\n",
              "      <td>0</td>\n",
              "      <td>0</td>\n",
              "      <td>0</td>\n",
              "      <td>0</td>\n",
              "      <td>0</td>\n",
              "      <td>0</td>\n",
              "      <td>0</td>\n",
              "      <td>0</td>\n",
              "    </tr>\n",
              "    <tr>\n",
              "      <th>2</th>\n",
              "      <td>Fake</td>\n",
              "      <td>1</td>\n",
              "      <td>0</td>\n",
              "      <td>0</td>\n",
              "      <td>0</td>\n",
              "      <td>0</td>\n",
              "      <td>0</td>\n",
              "      <td>0</td>\n",
              "      <td>1</td>\n",
              "      <td>0</td>\n",
              "      <td>...</td>\n",
              "      <td>0</td>\n",
              "      <td>0</td>\n",
              "      <td>1</td>\n",
              "      <td>0</td>\n",
              "      <td>0</td>\n",
              "      <td>0</td>\n",
              "      <td>0</td>\n",
              "      <td>0</td>\n",
              "      <td>0</td>\n",
              "      <td>0</td>\n",
              "    </tr>\n",
              "    <tr>\n",
              "      <th>3</th>\n",
              "      <td>Fake</td>\n",
              "      <td>0</td>\n",
              "      <td>0</td>\n",
              "      <td>1</td>\n",
              "      <td>0</td>\n",
              "      <td>0</td>\n",
              "      <td>0</td>\n",
              "      <td>0</td>\n",
              "      <td>0</td>\n",
              "      <td>0</td>\n",
              "      <td>...</td>\n",
              "      <td>0</td>\n",
              "      <td>0</td>\n",
              "      <td>0</td>\n",
              "      <td>0</td>\n",
              "      <td>0</td>\n",
              "      <td>0</td>\n",
              "      <td>0</td>\n",
              "      <td>2</td>\n",
              "      <td>0</td>\n",
              "      <td>0</td>\n",
              "    </tr>\n",
              "    <tr>\n",
              "      <th>4</th>\n",
              "      <td>Fake</td>\n",
              "      <td>0</td>\n",
              "      <td>0</td>\n",
              "      <td>1</td>\n",
              "      <td>0</td>\n",
              "      <td>0</td>\n",
              "      <td>0</td>\n",
              "      <td>0</td>\n",
              "      <td>0</td>\n",
              "      <td>0</td>\n",
              "      <td>...</td>\n",
              "      <td>0</td>\n",
              "      <td>0</td>\n",
              "      <td>0</td>\n",
              "      <td>0</td>\n",
              "      <td>0</td>\n",
              "      <td>0</td>\n",
              "      <td>0</td>\n",
              "      <td>1</td>\n",
              "      <td>0</td>\n",
              "      <td>0</td>\n",
              "    </tr>\n",
              "  </tbody>\n",
              "</table>\n",
              "<p>5 rows × 128 columns</p>\n",
              "</div>"
            ],
            "text/plain": [
              "  label  aapp  acab  acty  aggp  amas  amph  anab  anim  anst  ...  shro  \\\n",
              "0  Fake     1     0     3     0     0     0     0     0     0  ...     0   \n",
              "1  Fake     1     0     0     0     0     0     0     1     0  ...     0   \n",
              "2  Fake     1     0     0     0     0     0     0     1     0  ...     0   \n",
              "3  Fake     0     0     1     0     0     0     0     0     0  ...     0   \n",
              "4  Fake     0     0     1     0     0     0     0     0     0  ...     0   \n",
              "\n",
              "   socb  sosy  spco  tisu  tmco  topp  virs  vita  vtbt  \n",
              "0     0     0     0     0     1     1     0     0     0  \n",
              "1     0     0     0     0     0     0     0     0     0  \n",
              "2     0     1     0     0     0     0     0     0     0  \n",
              "3     0     0     0     0     0     0     2     0     0  \n",
              "4     0     0     0     0     0     0     1     0     0  \n",
              "\n",
              "[5 rows x 128 columns]"
            ]
          },
          "execution_count": 2,
          "metadata": {},
          "output_type": "execute_result"
        }
      ],
      "source": [
        "data = pd.read_csv('metamap_data.csv')\n",
        "data.head()"
      ]
    },
    {
      "cell_type": "code",
      "execution_count": 3,
      "metadata": {
        "id": "qcQwbYSsDbez"
      },
      "outputs": [],
      "source": [
        "# Convert labels to lowercase\n",
        "data['label'] = data['label'].str.lower()\n",
        "\n",
        "# Drop rows with missing label values\n",
        "data.dropna(subset=['label'], inplace=True)"
      ]
    },
    {
      "cell_type": "code",
      "execution_count": 4,
      "metadata": {
        "id": "9TYJNPOZB2g6"
      },
      "outputs": [],
      "source": [
        "# Encode labels\n",
        "label_encoder = LabelEncoder()\n",
        "data['label'] = label_encoder.fit_transform(data['label'])"
      ]
    },
    {
      "cell_type": "code",
      "execution_count": 5,
      "metadata": {
        "id": "6DdROu2nDsIu"
      },
      "outputs": [],
      "source": [
        "# Split data into features (X) and labels (y)\n",
        "X = data.drop('label', axis=1)\n",
        "y = data['label']"
      ]
    },
    {
      "cell_type": "code",
      "execution_count": 6,
      "metadata": {
        "id": "qXayFwrYDuxL"
      },
      "outputs": [],
      "source": [
        "X_train, X_test, y_train, y_test = train_test_split(X, y, test_size = 0.3, random_state = 0)"
      ]
    },
    {
      "cell_type": "code",
      "execution_count": 7,
      "metadata": {
        "id": "r3LuTYEADxU1"
      },
      "outputs": [],
      "source": [
        "\n",
        "# Reshape input data to be 3-dimensional\n",
        "X_train_reshaped = np.reshape(X_train.values, (X_train.shape[0], 1, X_train.shape[1]))\n",
        "X_test_reshaped = np.reshape(X_test.values, (X_test.shape[0], 1, X_test.shape[1]))\n"
      ]
    },
    {
      "cell_type": "code",
      "execution_count": 8,
      "metadata": {},
      "outputs": [],
      "source": [
        "# Define the model architecture\n",
        "model = Sequential([\n",
        "    GRU(units=100,return_sequences=True, input_shape=(1, X_train.shape[1])),\n",
        "    Dropout(0.5),\n",
        "    BatchNormalization(),\n",
        "    GRU(units=50),\n",
        "    Dropout(0.2),\n",
        "    Dense(10, activation='relu'),\n",
        "    Dense(1, activation='sigmoid')\n",
        "])"
      ]
    },
    {
      "cell_type": "code",
      "execution_count": 9,
      "metadata": {
        "colab": {
          "base_uri": "https://localhost:8080/"
        },
        "id": "r6Qty_nuCiSM",
        "outputId": "ec104509-5fb2-4d20-946c-2a86799e6c66"
      },
      "outputs": [
        {
          "name": "stdout",
          "output_type": "stream",
          "text": [
            "Model: \"sequential\"\n",
            "_________________________________________________________________\n",
            " Layer (type)                Output Shape              Param #   \n",
            "=================================================================\n",
            " gru (GRU)                   (None, 1, 100)            68700     \n",
            "                                                                 \n",
            " dropout (Dropout)           (None, 1, 100)            0         \n",
            "                                                                 \n",
            " batch_normalization (Batch  (None, 1, 100)            400       \n",
            " Normalization)                                                  \n",
            "                                                                 \n",
            " gru_1 (GRU)                 (None, 50)                22800     \n",
            "                                                                 \n",
            " dropout_1 (Dropout)         (None, 50)                0         \n",
            "                                                                 \n",
            " dense (Dense)               (None, 10)                510       \n",
            "                                                                 \n",
            " dense_1 (Dense)             (None, 1)                 11        \n",
            "                                                                 \n",
            "=================================================================\n",
            "Total params: 92421 (361.02 KB)\n",
            "Trainable params: 92221 (360.24 KB)\n",
            "Non-trainable params: 200 (800.00 Byte)\n",
            "_________________________________________________________________\n"
          ]
        }
      ],
      "source": [
        "model.compile(optimizer='adam', loss='binary_crossentropy', metrics=['accuracy'])\n",
        "\n",
        "model.summary()"
      ]
    },
    {
      "cell_type": "code",
      "execution_count": 10,
      "metadata": {
        "colab": {
          "base_uri": "https://localhost:8080/"
        },
        "id": "lLvICjZiGA8D",
        "outputId": "1f434cec-3b5b-4742-ea39-14de2188ef87"
      },
      "outputs": [
        {
          "name": "stdout",
          "output_type": "stream",
          "text": [
            "Epoch 1/50\n",
            "26/26 [==============================] - 4s 31ms/step - loss: 0.6840 - accuracy: 0.5665 - val_loss: 0.6667 - val_accuracy: 0.6590\n",
            "Epoch 2/50\n",
            "26/26 [==============================] - 0s 9ms/step - loss: 0.6209 - accuracy: 0.6671 - val_loss: 0.6407 - val_accuracy: 0.6705\n",
            "Epoch 3/50\n",
            "26/26 [==============================] - 0s 9ms/step - loss: 0.5554 - accuracy: 0.7466 - val_loss: 0.6116 - val_accuracy: 0.6705\n",
            "Epoch 4/50\n",
            "26/26 [==============================] - 0s 9ms/step - loss: 0.5063 - accuracy: 0.7789 - val_loss: 0.5652 - val_accuracy: 0.7052\n",
            "Epoch 5/50\n",
            "26/26 [==============================] - 0s 7ms/step - loss: 0.4567 - accuracy: 0.7975 - val_loss: 0.5330 - val_accuracy: 0.7370\n",
            "Epoch 6/50\n",
            "26/26 [==============================] - 0s 6ms/step - loss: 0.4398 - accuracy: 0.7851 - val_loss: 0.5432 - val_accuracy: 0.7254\n",
            "Epoch 7/50\n",
            "26/26 [==============================] - 0s 6ms/step - loss: 0.4263 - accuracy: 0.8137 - val_loss: 0.5229 - val_accuracy: 0.7370\n",
            "Epoch 8/50\n",
            "26/26 [==============================] - 0s 6ms/step - loss: 0.3992 - accuracy: 0.8124 - val_loss: 0.5075 - val_accuracy: 0.7688\n",
            "Epoch 9/50\n",
            "26/26 [==============================] - 0s 6ms/step - loss: 0.3739 - accuracy: 0.8410 - val_loss: 0.5161 - val_accuracy: 0.7659\n",
            "Epoch 10/50\n",
            "26/26 [==============================] - 0s 6ms/step - loss: 0.3543 - accuracy: 0.8385 - val_loss: 0.5280 - val_accuracy: 0.7630\n",
            "Epoch 11/50\n",
            "26/26 [==============================] - 0s 6ms/step - loss: 0.3402 - accuracy: 0.8410 - val_loss: 0.5186 - val_accuracy: 0.7659\n",
            "Epoch 12/50\n",
            "26/26 [==============================] - 0s 6ms/step - loss: 0.3460 - accuracy: 0.8609 - val_loss: 0.5147 - val_accuracy: 0.7630\n",
            "Epoch 13/50\n",
            "26/26 [==============================] - 0s 6ms/step - loss: 0.3437 - accuracy: 0.8298 - val_loss: 0.5462 - val_accuracy: 0.7630\n",
            "Epoch 14/50\n",
            "26/26 [==============================] - 0s 6ms/step - loss: 0.3487 - accuracy: 0.8335 - val_loss: 0.5334 - val_accuracy: 0.7717\n",
            "Epoch 15/50\n",
            "26/26 [==============================] - 0s 7ms/step - loss: 0.3201 - accuracy: 0.8683 - val_loss: 0.5262 - val_accuracy: 0.7746\n",
            "Epoch 16/50\n",
            "26/26 [==============================] - 0s 7ms/step - loss: 0.2952 - accuracy: 0.8845 - val_loss: 0.5470 - val_accuracy: 0.7717\n",
            "Epoch 17/50\n",
            "26/26 [==============================] - 0s 6ms/step - loss: 0.3077 - accuracy: 0.8671 - val_loss: 0.5508 - val_accuracy: 0.7832\n",
            "Epoch 18/50\n",
            "26/26 [==============================] - 0s 6ms/step - loss: 0.3097 - accuracy: 0.8547 - val_loss: 0.5352 - val_accuracy: 0.7803\n",
            "Epoch 19/50\n",
            "26/26 [==============================] - 0s 7ms/step - loss: 0.2955 - accuracy: 0.8683 - val_loss: 0.5820 - val_accuracy: 0.7717\n",
            "Epoch 20/50\n",
            "26/26 [==============================] - 0s 6ms/step - loss: 0.2814 - accuracy: 0.8646 - val_loss: 0.5890 - val_accuracy: 0.7832\n",
            "Epoch 21/50\n",
            "26/26 [==============================] - 0s 6ms/step - loss: 0.2586 - accuracy: 0.8894 - val_loss: 0.6185 - val_accuracy: 0.7630\n",
            "Epoch 22/50\n",
            "26/26 [==============================] - 0s 6ms/step - loss: 0.2498 - accuracy: 0.8932 - val_loss: 0.5909 - val_accuracy: 0.7803\n",
            "Epoch 23/50\n",
            "26/26 [==============================] - 0s 6ms/step - loss: 0.2391 - accuracy: 0.9006 - val_loss: 0.6356 - val_accuracy: 0.7717\n",
            "Epoch 24/50\n",
            "26/26 [==============================] - 0s 6ms/step - loss: 0.2411 - accuracy: 0.8981 - val_loss: 0.6399 - val_accuracy: 0.7717\n",
            "Epoch 25/50\n",
            "26/26 [==============================] - 0s 6ms/step - loss: 0.2493 - accuracy: 0.9019 - val_loss: 0.5948 - val_accuracy: 0.7890\n",
            "Epoch 26/50\n",
            "26/26 [==============================] - 0s 6ms/step - loss: 0.2465 - accuracy: 0.8994 - val_loss: 0.6404 - val_accuracy: 0.7832\n",
            "Epoch 27/50\n",
            "26/26 [==============================] - 0s 7ms/step - loss: 0.2373 - accuracy: 0.8981 - val_loss: 0.6059 - val_accuracy: 0.7919\n",
            "Epoch 28/50\n",
            "26/26 [==============================] - 0s 6ms/step - loss: 0.2335 - accuracy: 0.9043 - val_loss: 0.6808 - val_accuracy: 0.7890\n",
            "Epoch 29/50\n",
            "26/26 [==============================] - 0s 6ms/step - loss: 0.2465 - accuracy: 0.9093 - val_loss: 0.6531 - val_accuracy: 0.7919\n",
            "Epoch 30/50\n",
            "26/26 [==============================] - 0s 6ms/step - loss: 0.2360 - accuracy: 0.9019 - val_loss: 0.6374 - val_accuracy: 0.7890\n",
            "Epoch 31/50\n",
            "26/26 [==============================] - 0s 6ms/step - loss: 0.2117 - accuracy: 0.9081 - val_loss: 0.6629 - val_accuracy: 0.7832\n",
            "Epoch 32/50\n",
            "26/26 [==============================] - 0s 6ms/step - loss: 0.2214 - accuracy: 0.9006 - val_loss: 0.6682 - val_accuracy: 0.7803\n",
            "Epoch 33/50\n",
            "26/26 [==============================] - 0s 6ms/step - loss: 0.2312 - accuracy: 0.9193 - val_loss: 0.6518 - val_accuracy: 0.7919\n",
            "Epoch 34/50\n",
            "26/26 [==============================] - 0s 6ms/step - loss: 0.2090 - accuracy: 0.9205 - val_loss: 0.6803 - val_accuracy: 0.7543\n",
            "Epoch 35/50\n",
            "26/26 [==============================] - 0s 7ms/step - loss: 0.2180 - accuracy: 0.8994 - val_loss: 0.6589 - val_accuracy: 0.7775\n",
            "Epoch 36/50\n",
            "26/26 [==============================] - 0s 6ms/step - loss: 0.2130 - accuracy: 0.9155 - val_loss: 0.6466 - val_accuracy: 0.7890\n",
            "Epoch 37/50\n",
            "26/26 [==============================] - 0s 6ms/step - loss: 0.1737 - accuracy: 0.9230 - val_loss: 0.6337 - val_accuracy: 0.7948\n",
            "Epoch 38/50\n",
            "26/26 [==============================] - 0s 6ms/step - loss: 0.1772 - accuracy: 0.9342 - val_loss: 0.6856 - val_accuracy: 0.7832\n",
            "Epoch 39/50\n",
            "26/26 [==============================] - 0s 6ms/step - loss: 0.1701 - accuracy: 0.9304 - val_loss: 0.7044 - val_accuracy: 0.7890\n",
            "Epoch 40/50\n",
            "26/26 [==============================] - 0s 6ms/step - loss: 0.2080 - accuracy: 0.9043 - val_loss: 0.6753 - val_accuracy: 0.8064\n",
            "Epoch 41/50\n",
            "26/26 [==============================] - 0s 6ms/step - loss: 0.1816 - accuracy: 0.9205 - val_loss: 0.6804 - val_accuracy: 0.7948\n",
            "Epoch 42/50\n",
            "26/26 [==============================] - 0s 6ms/step - loss: 0.1568 - accuracy: 0.9404 - val_loss: 0.6767 - val_accuracy: 0.8179\n",
            "Epoch 43/50\n",
            "26/26 [==============================] - 0s 6ms/step - loss: 0.1793 - accuracy: 0.9267 - val_loss: 0.6587 - val_accuracy: 0.8121\n",
            "Epoch 44/50\n",
            "26/26 [==============================] - 0s 6ms/step - loss: 0.1561 - accuracy: 0.9379 - val_loss: 0.7065 - val_accuracy: 0.8035\n",
            "Epoch 45/50\n",
            "26/26 [==============================] - 0s 6ms/step - loss: 0.1756 - accuracy: 0.9317 - val_loss: 0.7268 - val_accuracy: 0.7948\n",
            "Epoch 46/50\n",
            "26/26 [==============================] - 0s 6ms/step - loss: 0.1425 - accuracy: 0.9391 - val_loss: 0.7215 - val_accuracy: 0.8035\n",
            "Epoch 47/50\n",
            "26/26 [==============================] - 0s 7ms/step - loss: 0.1632 - accuracy: 0.9304 - val_loss: 0.7925 - val_accuracy: 0.8006\n",
            "Epoch 48/50\n",
            "26/26 [==============================] - 0s 8ms/step - loss: 0.1510 - accuracy: 0.9292 - val_loss: 0.8324 - val_accuracy: 0.7803\n",
            "Epoch 49/50\n",
            "26/26 [==============================] - 0s 7ms/step - loss: 0.1665 - accuracy: 0.9342 - val_loss: 0.7617 - val_accuracy: 0.7977\n",
            "Epoch 50/50\n",
            "26/26 [==============================] - 0s 6ms/step - loss: 0.1272 - accuracy: 0.9578 - val_loss: 0.7639 - val_accuracy: 0.8092\n"
          ]
        }
      ],
      "source": [
        "# Train the model\n",
        "history = model.fit(X_train_reshaped, y_train, epochs=50, batch_size=32, validation_data=(X_test_reshaped, y_test))"
      ]
    },
    {
      "cell_type": "code",
      "execution_count": 11,
      "metadata": {
        "colab": {
          "base_uri": "https://localhost:8080/"
        },
        "id": "HQF5mMkMGWUC",
        "outputId": "5526239a-2869-4028-9d02-0226f336cabc"
      },
      "outputs": [
        {
          "name": "stdout",
          "output_type": "stream",
          "text": [
            "11/11 [==============================] - 1s 2ms/step\n"
          ]
        }
      ],
      "source": [
        "# Predict probabilities\n",
        "y_pred_probs = model.predict(X_test_reshaped)\n",
        "\n",
        "# Convert probabilities to class predictions\n",
        "y_pred_classes = (y_pred_probs > 0.5).astype(int).flatten()"
      ]
    },
    {
      "cell_type": "code",
      "execution_count": 12,
      "metadata": {
        "colab": {
          "base_uri": "https://localhost:8080/",
          "height": 633
        },
        "id": "mg7P_y0FGaYu",
        "outputId": "d94b944a-5112-45d2-f89a-058089840a13"
      },
      "outputs": [
        {
          "name": "stdout",
          "output_type": "stream",
          "text": [
            "Accuracy: 0.8092485549132948\n",
            "Precision: 0.8068181818181818\n",
            "Recall: 0.8160919540229885\n",
            "F1 Score: 0.8114285714285714\n"
          ]
        },
        {
          "data": {
            "image/png": "[encoded data removed]",
            "text/plain": [
              "<Figure size 800x600 with 1 Axes>"
            ]
          },
          "metadata": {},
          "output_type": "display_data"
        }
      ],
      "source": [
        "# Calculate evaluation metrics\n",
        "accuracy = accuracy_score(y_test, y_pred_classes)\n",
        "precision = precision_score(y_test, y_pred_classes)\n",
        "recall = recall_score(y_test, y_pred_classes)\n",
        "f1 = f1_score(y_test, y_pred_classes)\n",
        "\n",
        "print(\"Accuracy:\", accuracy)\n",
        "print(\"Precision:\", precision)\n",
        "print(\"Recall:\", recall)\n",
        "print(\"F1 Score:\", f1)\n",
        "\n",
        "# Generate confusion matrix\n",
        "cm = confusion_matrix(y_test, y_pred_classes)\n",
        "\n",
        "# Plot confusion matrix\n",
        "plt.figure(figsize=(8, 6))\n",
        "sns.heatmap(cm, annot=True, fmt='d', cmap='Blues', cbar=False)\n",
        "plt.xlabel('Predicted Labels')\n",
        "plt.ylabel('True Labels')\n",
        "plt.title('Confusion Matrix')\n",
        "plt.show()"
      ]
    },
    {
      "cell_type": "code",
      "execution_count": 13,
      "metadata": {
        "colab": {
          "base_uri": "https://localhost:8080/",
          "height": 927
        },
        "id": "mggYT1hTGl70",
        "outputId": "242cc5ab-a05c-4dee-ab8b-5dc23b1b596e"
      },
      "outputs": [
        {
          "data": {
            "image/png": "[encoded data removed]",
            "text/plain": [
              "<Figure size 640x480 with 1 Axes>"
            ]
          },
          "metadata": {},
          "output_type": "display_data"
        },
        {
          "data": {
            "image/png": "[encoded data removed]",
            "text/plain": [
              "<Figure size 640x480 with 1 Axes>"
            ]
          },
          "metadata": {},
          "output_type": "display_data"
        }
      ],
      "source": [
        "# Plot training & validation accuracy values\n",
        "plt.plot(history.history['accuracy'])\n",
        "plt.plot(history.history['val_accuracy'])\n",
        "plt.title('Model accuracy')\n",
        "plt.ylabel('Accuracy')\n",
        "plt.xlabel('Epoch')\n",
        "plt.legend(['Train', 'Test'], loc='upper left')\n",
        "plt.show()\n",
        "\n",
        "# Plot training & validation loss values\n",
        "plt.plot(history.history['loss'])\n",
        "plt.plot(history.history['val_loss'])\n",
        "plt.title('Model loss')\n",
        "plt.ylabel('Loss')\n",
        "plt.xlabel('Epoch')\n",
        "plt.legend(['Train', 'Test'], loc='upper left')\n",
        "plt.show()"
      ]
    }
  ],
  "metadata": {
    "colab": {
      "provenance": []
    },
    "kernelspec": {
      "display_name": "Python 3",
      "name": "python3"
    },
    "language_info": {
      "codemirror_mode": {
        "name": "ipython",
        "version": 3
      },
      "file_extension": ".py",
      "mimetype": "text/x-python",
      "name": "python",
      "nbconvert_exporter": "python",
      "pygments_lexer": "ipython3",
      "version": "3.10.12"
    }
  },
  "nbformat": 4,
  "nbformat_minor": 0
}
