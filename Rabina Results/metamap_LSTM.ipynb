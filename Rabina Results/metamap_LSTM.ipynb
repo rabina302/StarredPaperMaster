{
  "cells": [
    {
      "cell_type": "code",
      "execution_count": 1,
      "metadata": {
        "id": "xitulB1OTdWz"
      },
      "outputs": [
        {
          "name": "stderr",
          "output_type": "stream",
          "text": [
            "2024-03-04 02:00:58.674956: E external/local_xla/xla/stream_executor/cuda/cuda_dnn.cc:9261] Unable to register cuDNN factory: Attempting to register factory for plugin cuDNN when one has already been registered\n",
            "2024-03-04 02:00:58.675046: E external/local_xla/xla/stream_executor/cuda/cuda_fft.cc:607] Unable to register cuFFT factory: Attempting to register factory for plugin cuFFT when one has already been registered\n",
            "2024-03-04 02:00:58.676773: E external/local_xla/xla/stream_executor/cuda/cuda_blas.cc:1515] Unable to register cuBLAS factory: Attempting to register factory for plugin cuBLAS when one has already been registered\n",
            "2024-03-04 02:00:58.685872: I tensorflow/core/platform/cpu_feature_guard.cc:182] This TensorFlow binary is optimized to use available CPU instructions in performance-critical operations.\n",
            "To enable the following instructions: AVX2 FMA, in other operations, rebuild TensorFlow with the appropriate compiler flags.\n",
            "2024-03-04 02:00:59.563091: W tensorflow/compiler/tf2tensorrt/utils/py_utils.cc:38] TF-TRT Warning: Could not find TensorRT\n"
          ]
        }
      ],
      "source": [
        "import numpy as np\n",
        "import pandas as pd\n",
        "import seaborn as sns\n",
        "import matplotlib.pyplot as plt\n",
        "from sklearn.preprocessing import LabelEncoder\n",
        "from tensorflow.keras.models import Sequential\n",
        "from sklearn.model_selection import train_test_split\n",
        "from tensorflow.keras.layers import LSTM, Dropout, Dense, BatchNormalization\n",
        "from sklearn.metrics import accuracy_score, precision_score, recall_score, f1_score, classification_report, confusion_matrix, roc_auc_score\n"
      ]
    },
    {
      "cell_type": "code",
      "execution_count": 2,
      "metadata": {
        "id": "yJAgER392oQq"
      },
      "outputs": [],
      "source": [
        "data = pd.read_csv('metamap_data.csv')"
      ]
    },
    {
      "cell_type": "code",
      "execution_count": 3,
      "metadata": {
        "id": "NObnFIRaT_C7"
      },
      "outputs": [],
      "source": [
        "# Convert labels to lowercase\n",
        "data['label'] = data['label'].str.lower()\n",
        "\n",
        "# Drop rows with missing label values\n",
        "data.dropna(subset=['label'], inplace=True)"
      ]
    },
    {
      "cell_type": "code",
      "execution_count": 4,
      "metadata": {
        "id": "dSsw2Hz_Y9V4"
      },
      "outputs": [],
      "source": [
        "# Encode labels\n",
        "label_encoder = LabelEncoder()\n",
        "data['label'] = label_encoder.fit_transform(data['label'])"
      ]
    },
    {
      "cell_type": "code",
      "execution_count": 5,
      "metadata": {
        "colab": {
          "base_uri": "https://localhost:8080/",
          "height": 424
        },
        "id": "np5KkC6TsMk-",
        "outputId": "2696b906-1c23-456c-e189-1381e61ef136"
      },
      "outputs": [
        {
          "data": {
            "text/html": [
              "<div>\n",
              "<style scoped>\n",
              "    .dataframe tbody tr th:only-of-type {\n",
              "        vertical-align: middle;\n",
              "    }\n",
              "\n",
              "    .dataframe tbody tr th {\n",
              "        vertical-align: top;\n",
              "    }\n",
              "\n",
              "    .dataframe thead th {\n",
              "        text-align: right;\n",
              "    }\n",
              "</style>\n",
              "<table border=\"1\" class=\"dataframe\">\n",
              "  <thead>\n",
              "    <tr style=\"text-align: right;\">\n",
              "      <th></th>\n",
              "      <th>label</th>\n",
              "      <th>aapp</th>\n",
              "      <th>acab</th>\n",
              "      <th>acty</th>\n",
              "      <th>aggp</th>\n",
              "      <th>amas</th>\n",
              "      <th>amph</th>\n",
              "      <th>anab</th>\n",
              "      <th>anim</th>\n",
              "      <th>anst</th>\n",
              "      <th>...</th>\n",
              "      <th>shro</th>\n",
              "      <th>socb</th>\n",
              "      <th>sosy</th>\n",
              "      <th>spco</th>\n",
              "      <th>tisu</th>\n",
              "      <th>tmco</th>\n",
              "      <th>topp</th>\n",
              "      <th>virs</th>\n",
              "      <th>vita</th>\n",
              "      <th>vtbt</th>\n",
              "    </tr>\n",
              "  </thead>\n",
              "  <tbody>\n",
              "    <tr>\n",
              "      <th>0</th>\n",
              "      <td>0</td>\n",
              "      <td>1</td>\n",
              "      <td>0</td>\n",
              "      <td>3</td>\n",
              "      <td>0</td>\n",
              "      <td>0</td>\n",
              "      <td>0</td>\n",
              "      <td>0</td>\n",
              "      <td>0</td>\n",
              "      <td>0</td>\n",
              "      <td>...</td>\n",
              "      <td>0</td>\n",
              "      <td>0</td>\n",
              "      <td>0</td>\n",
              "      <td>0</td>\n",
              "      <td>0</td>\n",
              "      <td>1</td>\n",
              "      <td>1</td>\n",
              "      <td>0</td>\n",
              "      <td>0</td>\n",
              "      <td>0</td>\n",
              "    </tr>\n",
              "    <tr>\n",
              "      <th>1</th>\n",
              "      <td>0</td>\n",
              "      <td>1</td>\n",
              "      <td>0</td>\n",
              "      <td>0</td>\n",
              "      <td>0</td>\n",
              "      <td>0</td>\n",
              "      <td>0</td>\n",
              "      <td>0</td>\n",
              "      <td>1</td>\n",
              "      <td>0</td>\n",
              "      <td>...</td>\n",
              "      <td>0</td>\n",
              "      <td>0</td>\n",
              "      <td>0</td>\n",
              "      <td>0</td>\n",
              "      <td>0</td>\n",
              "      <td>0</td>\n",
              "      <td>0</td>\n",
              "      <td>0</td>\n",
              "      <td>0</td>\n",
              "      <td>0</td>\n",
              "    </tr>\n",
              "    <tr>\n",
              "      <th>2</th>\n",
              "      <td>0</td>\n",
              "      <td>1</td>\n",
              "      <td>0</td>\n",
              "      <td>0</td>\n",
              "      <td>0</td>\n",
              "      <td>0</td>\n",
              "      <td>0</td>\n",
              "      <td>0</td>\n",
              "      <td>1</td>\n",
              "      <td>0</td>\n",
              "      <td>...</td>\n",
              "      <td>0</td>\n",
              "      <td>0</td>\n",
              "      <td>1</td>\n",
              "      <td>0</td>\n",
              "      <td>0</td>\n",
              "      <td>0</td>\n",
              "      <td>0</td>\n",
              "      <td>0</td>\n",
              "      <td>0</td>\n",
              "      <td>0</td>\n",
              "    </tr>\n",
              "    <tr>\n",
              "      <th>3</th>\n",
              "      <td>0</td>\n",
              "      <td>0</td>\n",
              "      <td>0</td>\n",
              "      <td>1</td>\n",
              "      <td>0</td>\n",
              "      <td>0</td>\n",
              "      <td>0</td>\n",
              "      <td>0</td>\n",
              "      <td>0</td>\n",
              "      <td>0</td>\n",
              "      <td>...</td>\n",
              "      <td>0</td>\n",
              "      <td>0</td>\n",
              "      <td>0</td>\n",
              "      <td>0</td>\n",
              "      <td>0</td>\n",
              "      <td>0</td>\n",
              "      <td>0</td>\n",
              "      <td>2</td>\n",
              "      <td>0</td>\n",
              "      <td>0</td>\n",
              "    </tr>\n",
              "    <tr>\n",
              "      <th>4</th>\n",
              "      <td>0</td>\n",
              "      <td>0</td>\n",
              "      <td>0</td>\n",
              "      <td>1</td>\n",
              "      <td>0</td>\n",
              "      <td>0</td>\n",
              "      <td>0</td>\n",
              "      <td>0</td>\n",
              "      <td>0</td>\n",
              "      <td>0</td>\n",
              "      <td>...</td>\n",
              "      <td>0</td>\n",
              "      <td>0</td>\n",
              "      <td>0</td>\n",
              "      <td>0</td>\n",
              "      <td>0</td>\n",
              "      <td>0</td>\n",
              "      <td>0</td>\n",
              "      <td>1</td>\n",
              "      <td>0</td>\n",
              "      <td>0</td>\n",
              "    </tr>\n",
              "    <tr>\n",
              "      <th>...</th>\n",
              "      <td>...</td>\n",
              "      <td>...</td>\n",
              "      <td>...</td>\n",
              "      <td>...</td>\n",
              "      <td>...</td>\n",
              "      <td>...</td>\n",
              "      <td>...</td>\n",
              "      <td>...</td>\n",
              "      <td>...</td>\n",
              "      <td>...</td>\n",
              "      <td>...</td>\n",
              "      <td>...</td>\n",
              "      <td>...</td>\n",
              "      <td>...</td>\n",
              "      <td>...</td>\n",
              "      <td>...</td>\n",
              "      <td>...</td>\n",
              "      <td>...</td>\n",
              "      <td>...</td>\n",
              "      <td>...</td>\n",
              "      <td>...</td>\n",
              "    </tr>\n",
              "    <tr>\n",
              "      <th>1146</th>\n",
              "      <td>1</td>\n",
              "      <td>1</td>\n",
              "      <td>0</td>\n",
              "      <td>4</td>\n",
              "      <td>0</td>\n",
              "      <td>0</td>\n",
              "      <td>0</td>\n",
              "      <td>0</td>\n",
              "      <td>0</td>\n",
              "      <td>1</td>\n",
              "      <td>...</td>\n",
              "      <td>0</td>\n",
              "      <td>5</td>\n",
              "      <td>1</td>\n",
              "      <td>9</td>\n",
              "      <td>0</td>\n",
              "      <td>21</td>\n",
              "      <td>3</td>\n",
              "      <td>4</td>\n",
              "      <td>1</td>\n",
              "      <td>0</td>\n",
              "    </tr>\n",
              "    <tr>\n",
              "      <th>1147</th>\n",
              "      <td>1</td>\n",
              "      <td>1</td>\n",
              "      <td>0</td>\n",
              "      <td>6</td>\n",
              "      <td>0</td>\n",
              "      <td>0</td>\n",
              "      <td>0</td>\n",
              "      <td>0</td>\n",
              "      <td>1</td>\n",
              "      <td>0</td>\n",
              "      <td>...</td>\n",
              "      <td>0</td>\n",
              "      <td>6</td>\n",
              "      <td>7</td>\n",
              "      <td>10</td>\n",
              "      <td>0</td>\n",
              "      <td>23</td>\n",
              "      <td>2</td>\n",
              "      <td>3</td>\n",
              "      <td>0</td>\n",
              "      <td>0</td>\n",
              "    </tr>\n",
              "    <tr>\n",
              "      <th>1148</th>\n",
              "      <td>1</td>\n",
              "      <td>1</td>\n",
              "      <td>0</td>\n",
              "      <td>6</td>\n",
              "      <td>0</td>\n",
              "      <td>0</td>\n",
              "      <td>0</td>\n",
              "      <td>0</td>\n",
              "      <td>1</td>\n",
              "      <td>0</td>\n",
              "      <td>...</td>\n",
              "      <td>0</td>\n",
              "      <td>3</td>\n",
              "      <td>2</td>\n",
              "      <td>3</td>\n",
              "      <td>0</td>\n",
              "      <td>20</td>\n",
              "      <td>1</td>\n",
              "      <td>2</td>\n",
              "      <td>0</td>\n",
              "      <td>0</td>\n",
              "    </tr>\n",
              "    <tr>\n",
              "      <th>1149</th>\n",
              "      <td>1</td>\n",
              "      <td>5</td>\n",
              "      <td>0</td>\n",
              "      <td>12</td>\n",
              "      <td>0</td>\n",
              "      <td>0</td>\n",
              "      <td>0</td>\n",
              "      <td>0</td>\n",
              "      <td>2</td>\n",
              "      <td>0</td>\n",
              "      <td>...</td>\n",
              "      <td>0</td>\n",
              "      <td>2</td>\n",
              "      <td>5</td>\n",
              "      <td>12</td>\n",
              "      <td>0</td>\n",
              "      <td>42</td>\n",
              "      <td>7</td>\n",
              "      <td>5</td>\n",
              "      <td>0</td>\n",
              "      <td>0</td>\n",
              "    </tr>\n",
              "    <tr>\n",
              "      <th>1150</th>\n",
              "      <td>1</td>\n",
              "      <td>1</td>\n",
              "      <td>0</td>\n",
              "      <td>5</td>\n",
              "      <td>0</td>\n",
              "      <td>0</td>\n",
              "      <td>0</td>\n",
              "      <td>0</td>\n",
              "      <td>0</td>\n",
              "      <td>0</td>\n",
              "      <td>...</td>\n",
              "      <td>0</td>\n",
              "      <td>7</td>\n",
              "      <td>0</td>\n",
              "      <td>7</td>\n",
              "      <td>0</td>\n",
              "      <td>16</td>\n",
              "      <td>5</td>\n",
              "      <td>2</td>\n",
              "      <td>1</td>\n",
              "      <td>0</td>\n",
              "    </tr>\n",
              "  </tbody>\n",
              "</table>\n",
              "<p>1151 rows × 128 columns</p>\n",
              "</div>"
            ],
            "text/plain": [
              "      label  aapp  acab  acty  aggp  amas  amph  anab  anim  anst  ...  shro  \\\n",
              "0         0     1     0     3     0     0     0     0     0     0  ...     0   \n",
              "1         0     1     0     0     0     0     0     0     1     0  ...     0   \n",
              "2         0     1     0     0     0     0     0     0     1     0  ...     0   \n",
              "3         0     0     0     1     0     0     0     0     0     0  ...     0   \n",
              "4         0     0     0     1     0     0     0     0     0     0  ...     0   \n",
              "...     ...   ...   ...   ...   ...   ...   ...   ...   ...   ...  ...   ...   \n",
              "1146      1     1     0     4     0     0     0     0     0     1  ...     0   \n",
              "1147      1     1     0     6     0     0     0     0     1     0  ...     0   \n",
              "1148      1     1     0     6     0     0     0     0     1     0  ...     0   \n",
              "1149      1     5     0    12     0     0     0     0     2     0  ...     0   \n",
              "1150      1     1     0     5     0     0     0     0     0     0  ...     0   \n",
              "\n",
              "      socb  sosy  spco  tisu  tmco  topp  virs  vita  vtbt  \n",
              "0        0     0     0     0     1     1     0     0     0  \n",
              "1        0     0     0     0     0     0     0     0     0  \n",
              "2        0     1     0     0     0     0     0     0     0  \n",
              "3        0     0     0     0     0     0     2     0     0  \n",
              "4        0     0     0     0     0     0     1     0     0  \n",
              "...    ...   ...   ...   ...   ...   ...   ...   ...   ...  \n",
              "1146     5     1     9     0    21     3     4     1     0  \n",
              "1147     6     7    10     0    23     2     3     0     0  \n",
              "1148     3     2     3     0    20     1     2     0     0  \n",
              "1149     2     5    12     0    42     7     5     0     0  \n",
              "1150     7     0     7     0    16     5     2     1     0  \n",
              "\n",
              "[1151 rows x 128 columns]"
            ]
          },
          "execution_count": 5,
          "metadata": {},
          "output_type": "execute_result"
        }
      ],
      "source": [
        "data"
      ]
    },
    {
      "cell_type": "code",
      "execution_count": 6,
      "metadata": {
        "id": "-sGQ3y4dUJsZ"
      },
      "outputs": [],
      "source": [
        "# Split data into features (X) and labels (y)\n",
        "X = data.drop('label', axis=1)\n",
        "y = data['label']"
      ]
    },
    {
      "cell_type": "code",
      "execution_count": 7,
      "metadata": {
        "id": "ExJ5FfXSUOte"
      },
      "outputs": [],
      "source": [
        "X_train, X_test, y_train, y_test = train_test_split(X, y, test_size = 0.3, random_state = 0)"
      ]
    },
    {
      "cell_type": "code",
      "execution_count": 8,
      "metadata": {
        "id": "aWpc4FUlUSDn"
      },
      "outputs": [],
      "source": [
        "# num_timesteps = 1  # Define the number of time steps\n",
        "# num_features = X_train.shape[1]\n",
        "# X_train= X_train.reshape(-1, num_timesteps, num_features)"
      ]
    },
    {
      "cell_type": "code",
      "execution_count": 9,
      "metadata": {
        "id": "C35DyJ_4XobX"
      },
      "outputs": [],
      "source": [
        "\n",
        "# Reshape input data to be 3-dimensional\n",
        "X_train_reshaped = np.reshape(X_train.values, (X_train.shape[0], 1, X_train.shape[1]))\n",
        "X_test_reshaped = np.reshape(X_test.values, (X_test.shape[0], 1, X_test.shape[1]))\n"
      ]
    },
    {
      "cell_type": "code",
      "execution_count": 10,
      "metadata": {
        "colab": {
          "base_uri": "https://localhost:8080/"
        },
        "id": "pVmY9T_yUV0Q",
        "outputId": "abdfd25d-1fd0-4c49-8377-aeba093627e8"
      },
      "outputs": [
        {
          "name": "stdout",
          "output_type": "stream",
          "text": [
            "Model: \"sequential\"\n",
            "_________________________________________________________________\n",
            " Layer (type)                Output Shape              Param #   \n",
            "=================================================================\n",
            " lstm (LSTM)                 (None, 1, 25)             15300     \n",
            "                                                                 \n",
            " dropout (Dropout)           (None, 1, 25)             0         \n",
            "                                                                 \n",
            " batch_normalization (Batch  (None, 1, 25)             100       \n",
            " Normalization)                                                  \n",
            "                                                                 \n",
            " lstm_1 (LSTM)               (None, 50)                15200     \n",
            "                                                                 \n",
            " dropout_1 (Dropout)         (None, 50)                0         \n",
            "                                                                 \n",
            " dense (Dense)               (None, 10)                510       \n",
            "                                                                 \n",
            " dense_1 (Dense)             (None, 1)                 11        \n",
            "                                                                 \n",
            "=================================================================\n",
            "Total params: 31121 (121.57 KB)\n",
            "Trainable params: 31071 (121.37 KB)\n",
            "Non-trainable params: 50 (200.00 Byte)\n",
            "_________________________________________________________________\n"
          ]
        }
      ],
      "source": [
        "# Define the model architecture\n",
        "model = Sequential([\n",
        "    LSTM(units=25,return_sequences=True, input_shape=(1, X_train.shape[1])),\n",
        "    Dropout(0.5),\n",
        "    BatchNormalization(),\n",
        "    LSTM(units=50),\n",
        "    Dropout(0.2),\n",
        "    Dense(10, activation='relu'),\n",
        "    Dense(1, activation='sigmoid')\n",
        "])\n",
        "\n",
        "# Compile the model\n",
        "model.compile(optimizer='adam', loss='binary_crossentropy', metrics=['accuracy'])\n",
        "\n",
        "# Print model summary\n",
        "model.summary()"
      ]
    },
    {
      "cell_type": "code",
      "execution_count": 11,
      "metadata": {
        "colab": {
          "base_uri": "https://localhost:8080/"
        },
        "id": "wLt_Qx9k1Yb-",
        "outputId": "5ea0804f-e84e-4c58-ea1d-ae33f32d1824"
      },
      "outputs": [
        {
          "name": "stdout",
          "output_type": "stream",
          "text": [
            "Epoch 1/50\n",
            "26/26 [==============================] - 3s 32ms/step - loss: 0.6848 - accuracy: 0.5615 - val_loss: 0.6861 - val_accuracy: 0.6329\n",
            "Epoch 2/50\n",
            "26/26 [==============================] - 0s 9ms/step - loss: 0.6662 - accuracy: 0.6286 - val_loss: 0.6752 - val_accuracy: 0.6821\n",
            "Epoch 3/50\n",
            "26/26 [==============================] - 0s 9ms/step - loss: 0.6322 - accuracy: 0.6770 - val_loss: 0.6535 - val_accuracy: 0.6850\n",
            "Epoch 4/50\n",
            "26/26 [==============================] - 0s 9ms/step - loss: 0.5832 - accuracy: 0.7329 - val_loss: 0.6178 - val_accuracy: 0.7254\n",
            "Epoch 5/50\n",
            "26/26 [==============================] - 0s 6ms/step - loss: 0.5215 - accuracy: 0.7640 - val_loss: 0.5864 - val_accuracy: 0.7023\n",
            "Epoch 6/50\n",
            "26/26 [==============================] - 0s 6ms/step - loss: 0.5087 - accuracy: 0.7677 - val_loss: 0.5565 - val_accuracy: 0.7283\n",
            "Epoch 7/50\n",
            "26/26 [==============================] - 0s 6ms/step - loss: 0.4710 - accuracy: 0.7739 - val_loss: 0.5520 - val_accuracy: 0.7168\n",
            "Epoch 8/50\n",
            "26/26 [==============================] - 0s 6ms/step - loss: 0.4524 - accuracy: 0.7863 - val_loss: 0.5158 - val_accuracy: 0.7457\n",
            "Epoch 9/50\n",
            "26/26 [==============================] - 0s 6ms/step - loss: 0.4419 - accuracy: 0.7963 - val_loss: 0.5196 - val_accuracy: 0.7283\n",
            "Epoch 10/50\n",
            "26/26 [==============================] - 0s 6ms/step - loss: 0.4447 - accuracy: 0.8000 - val_loss: 0.5081 - val_accuracy: 0.7543\n",
            "Epoch 11/50\n",
            "26/26 [==============================] - 0s 6ms/step - loss: 0.3966 - accuracy: 0.8137 - val_loss: 0.5020 - val_accuracy: 0.7543\n",
            "Epoch 12/50\n",
            "26/26 [==============================] - 0s 7ms/step - loss: 0.3744 - accuracy: 0.8398 - val_loss: 0.4873 - val_accuracy: 0.7688\n",
            "Epoch 13/50\n",
            "26/26 [==============================] - 0s 6ms/step - loss: 0.3869 - accuracy: 0.8248 - val_loss: 0.4837 - val_accuracy: 0.7572\n",
            "Epoch 14/50\n",
            "26/26 [==============================] - 0s 6ms/step - loss: 0.3870 - accuracy: 0.8311 - val_loss: 0.4780 - val_accuracy: 0.7630\n",
            "Epoch 15/50\n",
            "26/26 [==============================] - 0s 6ms/step - loss: 0.3369 - accuracy: 0.8484 - val_loss: 0.4864 - val_accuracy: 0.7803\n",
            "Epoch 16/50\n",
            "26/26 [==============================] - 0s 6ms/step - loss: 0.3753 - accuracy: 0.8137 - val_loss: 0.4932 - val_accuracy: 0.7775\n",
            "Epoch 17/50\n",
            "26/26 [==============================] - 0s 6ms/step - loss: 0.3395 - accuracy: 0.8472 - val_loss: 0.4924 - val_accuracy: 0.7775\n",
            "Epoch 18/50\n",
            "26/26 [==============================] - 0s 5ms/step - loss: 0.3209 - accuracy: 0.8708 - val_loss: 0.4835 - val_accuracy: 0.7832\n",
            "Epoch 19/50\n",
            "26/26 [==============================] - 0s 5ms/step - loss: 0.3477 - accuracy: 0.8360 - val_loss: 0.4742 - val_accuracy: 0.7803\n",
            "Epoch 20/50\n",
            "26/26 [==============================] - 0s 5ms/step - loss: 0.3026 - accuracy: 0.8646 - val_loss: 0.5017 - val_accuracy: 0.7803\n",
            "Epoch 21/50\n",
            "26/26 [==============================] - 0s 5ms/step - loss: 0.3285 - accuracy: 0.8696 - val_loss: 0.5072 - val_accuracy: 0.7803\n",
            "Epoch 22/50\n",
            "26/26 [==============================] - 0s 5ms/step - loss: 0.3060 - accuracy: 0.8745 - val_loss: 0.5137 - val_accuracy: 0.7775\n",
            "Epoch 23/50\n",
            "26/26 [==============================] - 0s 5ms/step - loss: 0.2997 - accuracy: 0.8745 - val_loss: 0.5082 - val_accuracy: 0.7832\n",
            "Epoch 24/50\n",
            "26/26 [==============================] - 0s 6ms/step - loss: 0.2846 - accuracy: 0.8745 - val_loss: 0.5441 - val_accuracy: 0.7948\n",
            "Epoch 25/50\n",
            "26/26 [==============================] - 0s 5ms/step - loss: 0.2803 - accuracy: 0.8658 - val_loss: 0.5122 - val_accuracy: 0.7948\n",
            "Epoch 26/50\n",
            "26/26 [==============================] - 0s 5ms/step - loss: 0.2928 - accuracy: 0.8820 - val_loss: 0.4952 - val_accuracy: 0.8121\n",
            "Epoch 27/50\n",
            "26/26 [==============================] - 0s 5ms/step - loss: 0.2792 - accuracy: 0.8795 - val_loss: 0.5335 - val_accuracy: 0.7803\n",
            "Epoch 28/50\n",
            "26/26 [==============================] - 0s 5ms/step - loss: 0.2560 - accuracy: 0.8820 - val_loss: 0.5506 - val_accuracy: 0.7861\n",
            "Epoch 29/50\n",
            "26/26 [==============================] - 0s 5ms/step - loss: 0.2693 - accuracy: 0.8745 - val_loss: 0.5112 - val_accuracy: 0.7861\n",
            "Epoch 30/50\n",
            "26/26 [==============================] - 0s 5ms/step - loss: 0.2448 - accuracy: 0.8882 - val_loss: 0.5580 - val_accuracy: 0.7861\n",
            "Epoch 31/50\n",
            "26/26 [==============================] - 0s 5ms/step - loss: 0.2631 - accuracy: 0.8870 - val_loss: 0.5469 - val_accuracy: 0.7861\n",
            "Epoch 32/50\n",
            "26/26 [==============================] - 0s 5ms/step - loss: 0.2583 - accuracy: 0.8894 - val_loss: 0.5565 - val_accuracy: 0.7890\n",
            "Epoch 33/50\n",
            "26/26 [==============================] - 0s 5ms/step - loss: 0.2286 - accuracy: 0.9019 - val_loss: 0.5689 - val_accuracy: 0.7861\n",
            "Epoch 34/50\n",
            "26/26 [==============================] - 0s 5ms/step - loss: 0.2480 - accuracy: 0.9006 - val_loss: 0.5667 - val_accuracy: 0.8006\n",
            "Epoch 35/50\n",
            "26/26 [==============================] - 0s 6ms/step - loss: 0.2800 - accuracy: 0.8807 - val_loss: 0.5744 - val_accuracy: 0.7717\n",
            "Epoch 36/50\n",
            "26/26 [==============================] - 0s 6ms/step - loss: 0.2898 - accuracy: 0.8820 - val_loss: 0.5286 - val_accuracy: 0.8035\n",
            "Epoch 37/50\n",
            "26/26 [==============================] - 0s 6ms/step - loss: 0.2854 - accuracy: 0.8745 - val_loss: 0.5384 - val_accuracy: 0.7861\n",
            "Epoch 38/50\n",
            "26/26 [==============================] - 0s 6ms/step - loss: 0.2396 - accuracy: 0.8932 - val_loss: 0.5579 - val_accuracy: 0.7803\n",
            "Epoch 39/50\n",
            "26/26 [==============================] - 0s 6ms/step - loss: 0.2290 - accuracy: 0.9068 - val_loss: 0.5721 - val_accuracy: 0.7746\n",
            "Epoch 40/50\n",
            "26/26 [==============================] - 0s 6ms/step - loss: 0.2087 - accuracy: 0.9081 - val_loss: 0.5629 - val_accuracy: 0.7861\n",
            "Epoch 41/50\n",
            "26/26 [==============================] - 0s 6ms/step - loss: 0.2290 - accuracy: 0.9043 - val_loss: 0.5588 - val_accuracy: 0.7803\n",
            "Epoch 42/50\n",
            "26/26 [==============================] - 0s 5ms/step - loss: 0.2019 - accuracy: 0.9193 - val_loss: 0.6003 - val_accuracy: 0.7746\n",
            "Epoch 43/50\n",
            "26/26 [==============================] - 0s 5ms/step - loss: 0.2188 - accuracy: 0.9118 - val_loss: 0.5950 - val_accuracy: 0.7832\n",
            "Epoch 44/50\n",
            "26/26 [==============================] - 0s 5ms/step - loss: 0.1783 - accuracy: 0.9255 - val_loss: 0.5878 - val_accuracy: 0.8035\n",
            "Epoch 45/50\n",
            "26/26 [==============================] - 0s 5ms/step - loss: 0.2355 - accuracy: 0.8994 - val_loss: 0.6126 - val_accuracy: 0.7948\n",
            "Epoch 46/50\n",
            "26/26 [==============================] - 0s 5ms/step - loss: 0.1969 - accuracy: 0.9230 - val_loss: 0.6256 - val_accuracy: 0.7977\n",
            "Epoch 47/50\n",
            "26/26 [==============================] - 0s 5ms/step - loss: 0.2134 - accuracy: 0.9180 - val_loss: 0.6258 - val_accuracy: 0.7890\n",
            "Epoch 48/50\n",
            "26/26 [==============================] - 0s 5ms/step - loss: 0.1999 - accuracy: 0.9106 - val_loss: 0.6547 - val_accuracy: 0.7861\n",
            "Epoch 49/50\n",
            "26/26 [==============================] - 0s 5ms/step - loss: 0.1910 - accuracy: 0.9255 - val_loss: 0.6645 - val_accuracy: 0.7948\n",
            "Epoch 50/50\n",
            "26/26 [==============================] - 0s 5ms/step - loss: 0.1900 - accuracy: 0.9242 - val_loss: 0.6131 - val_accuracy: 0.8006\n"
          ]
        }
      ],
      "source": [
        "# Train the model\n",
        "history = model.fit(X_train_reshaped, y_train, epochs=50, batch_size=32, validation_data=(X_test_reshaped, y_test))"
      ]
    },
    {
      "cell_type": "code",
      "execution_count": 12,
      "metadata": {
        "colab": {
          "base_uri": "https://localhost:8080/"
        },
        "id": "-GS09Lcp1zRz",
        "outputId": "2a892d8b-0bc7-4b30-8033-18bd7bb66b46"
      },
      "outputs": [
        {
          "name": "stdout",
          "output_type": "stream",
          "text": [
            "11/11 [==============================] - 1s 2ms/step\n"
          ]
        }
      ],
      "source": [
        "# Predict probabilities\n",
        "y_pred_probs = model.predict(X_test_reshaped)\n",
        "\n",
        "# Convert probabilities to class predictions\n",
        "y_pred_classes = (y_pred_probs > 0.5).astype(int).flatten()"
      ]
    },
    {
      "cell_type": "code",
      "execution_count": 15,
      "metadata": {
        "colab": {
          "base_uri": "https://localhost:8080/",
          "height": 633
        },
        "id": "ct3QNH_O1bmG",
        "outputId": "ff0e944d-1298-4601-8544-258561f12515"
      },
      "outputs": [
        {
          "name": "stdout",
          "output_type": "stream",
          "text": [
            "Accuracy: 0.8005780346820809\n",
            "Precision: 0.7900552486187845\n",
            "Recall: 0.8218390804597702\n",
            "F1 Score: 0.8056338028169014\n",
            "AUC Score: 0.8004544239508153\n"
          ]
        },
        {
          "data": {
            "image/png": "[encoded data removed]",
            "text/plain": [
              "<Figure size 800x600 with 1 Axes>"
            ]
          },
          "metadata": {},
          "output_type": "display_data"
        }
      ],
      "source": [
        "# Calculate evaluation metrics\n",
        "accuracy = accuracy_score(y_test, y_pred_classes)\n",
        "precision = precision_score(y_test, y_pred_classes)\n",
        "recall = recall_score(y_test, y_pred_classes)\n",
        "f1 = f1_score(y_test, y_pred_classes)\n",
        "auc = roc_auc_score(y_test, y_pred_classes)\n",
        "\n",
        "print(\"Accuracy:\", accuracy)\n",
        "print(\"Precision:\", precision)\n",
        "print(\"Recall:\", recall)\n",
        "print(\"F1 Score:\", f1)\n",
        "print(\"AUC Score:\", auc)\n",
        "\n",
        "\n",
        "# Generate confusion matrix\n",
        "cm = confusion_matrix(y_test, y_pred_classes)\n",
        "\n",
        "# Plot confusion matrix\n",
        "plt.figure(figsize=(8, 6))\n",
        "sns.heatmap(cm, annot=True, fmt='d', cmap='Blues', cbar=False)\n",
        "plt.xlabel('Predicted Labels')\n",
        "plt.ylabel('True Labels')\n",
        "plt.title('Confusion Matrix')\n",
        "plt.show()\n"
      ]
    },
    {
      "cell_type": "code",
      "execution_count": 14,
      "metadata": {
        "colab": {
          "base_uri": "https://localhost:8080/",
          "height": 927
        },
        "id": "kM-LhkwQ1T3y",
        "outputId": "63631f68-0ff2-4c97-b083-83f56dee78f0"
      },
      "outputs": [
        {
          "data": {
            "image/png": "[encoded data removed]",
            "text/plain": [
              "<Figure size 640x480 with 1 Axes>"
            ]
          },
          "metadata": {},
          "output_type": "display_data"
        },
        {
          "data": {
            "image/png": "[encoded data removed]",
            "text/plain": [
              "<Figure size 640x480 with 1 Axes>"
            ]
          },
          "metadata": {},
          "output_type": "display_data"
        }
      ],
      "source": [
        "# Plot training & validation accuracy values\n",
        "plt.plot(history.history['accuracy'])\n",
        "plt.plot(history.history['val_accuracy'])\n",
        "plt.title('Model accuracy')\n",
        "plt.ylabel('Accuracy')\n",
        "plt.xlabel('Epoch')\n",
        "plt.legend(['Train', 'Test'], loc='upper left')\n",
        "plt.show()\n",
        "\n",
        "# Plot training & validation loss values\n",
        "plt.plot(history.history['loss'])\n",
        "plt.plot(history.history['val_loss'])\n",
        "plt.title('Model loss')\n",
        "plt.ylabel('Loss')\n",
        "plt.xlabel('Epoch')\n",
        "plt.legend(['Train', 'Test'], loc='upper left')\n",
        "plt.show()"
      ]
    },
    {
      "cell_type": "code",
      "execution_count": null,
      "metadata": {
        "id": "1fllj_Yda02n"
      },
      "outputs": [],
      "source": []
    }
  ],
  "metadata": {
    "colab": {
      "provenance": []
    },
    "kernelspec": {
      "display_name": "Python 3",
      "name": "python3"
    },
    "language_info": {
      "codemirror_mode": {
        "name": "ipython",
        "version": 3
      },
      "file_extension": ".py",
      "mimetype": "text/x-python",
      "name": "python",
      "nbconvert_exporter": "python",
      "pygments_lexer": "ipython3",
      "version": "3.10.12"
    }
  },
  "nbformat": 4,
  "nbformat_minor": 0
}
