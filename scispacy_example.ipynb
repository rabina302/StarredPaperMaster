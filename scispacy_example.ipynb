{
  "cells": [
    {
      "cell_type": "markdown",
      "metadata": {
        "id": "view-in-github",
        "colab_type": "text"
      },
      "source": [
        "<a href=\"https://colab.research.google.com/github/rabina302/StarredPaperMaster/blob/main/scispacy_example.ipynb\" target=\"_parent\"><img src=\"https://colab.research.google.com/assets/colab-badge.svg\" alt=\"Open In Colab\"/></a>"
      ]
    },
    {
      "cell_type": "code",
      "execution_count": 1,
      "metadata": {
        "id": "Gqy42r_kWyvn"
      },
      "outputs": [],
      "source": [
        "import pandas as pd\n",
        "import numpy as np\n",
        "import spacy\n",
        "import scispacy\n",
        "from scispacy.abbreviation import AbbreviationDetector\n",
        "from scispacy.umls_linking import UmlsEntityLinker\n",
        "from sklearn.model_selection import train_test_split\n",
        "from tensorflow.keras.preprocessing.sequence import pad_sequences\n",
        "from tensorflow.keras.models import Sequential\n",
        "from tensorflow.keras.callbacks import EarlyStopping\n",
        "from tensorflow.keras.layers import LSTM, Dense, Embedding, Dropout, Dense\n",
        "from sklearn.metrics import accuracy_score, precision_score, recall_score, f1_score, confusion_matrix\n",
        "import matplotlib.pyplot as plt\n",
        "import seaborn as sns"
      ]
    },
    {
      "cell_type": "code",
      "source": [
        "# !pip install https://s3-us-west-2.amazonaws.com/ai2-s2-scispacy/releases/v0.5.3/en_core_sci_sm-0.5.3.tar.gz"
      ],
      "metadata": {
        "id": "o7EG0NqzDRmF"
      },
      "execution_count": 2,
      "outputs": []
    },
    {
      "cell_type": "code",
      "source": [
        "# !pip install https://s3-us-west-2.amazonaws.com/ai2-s2-scispacy/releases/v0.5.3/en_core_sci_md-0.5.3.tar.gz"
      ],
      "metadata": {
        "id": "tyHphPFIBQWW"
      },
      "execution_count": 3,
      "outputs": []
    },
    {
      "cell_type": "code",
      "execution_count": 4,
      "metadata": {
        "id": "rgSATtcaW3TU",
        "colab": {
          "base_uri": "https://localhost:8080/"
        },
        "outputId": "4eddb4d9-d630-4e61-ef0f-01ae3c0685bb"
      },
      "outputs": [
        {
          "output_type": "stream",
          "name": "stderr",
          "text": [
            "/usr/local/lib/python3.10/dist-packages/spacy/language.py:2141: FutureWarning: Possible set union at position 6328\n",
            "  deserializers[\"tokenizer\"] = lambda p: self.tokenizer.from_disk(  # type: ignore[union-attr]\n"
          ]
        }
      ],
      "source": [
        "# Load the SciSpaCy model\n",
        "nlp = spacy.load(\"en_core_sci_sm\")\n",
        "\n",
        "# # Add abbreviation detector\n",
        "# abbreviation_pipe = AbbreviationDetector(nlp)\n",
        "# nlp.add_pipe(\"abbreviation_detector\")\n",
        "\n",
        "# # Add UMLS entity linker\n",
        "# linker = UmlsEntityLinker(resolve_abbreviations=True)\n",
        "# nlp.add_pipe(\"entity_linker\")"
      ]
    },
    {
      "cell_type": "code",
      "source": [
        "import spacy\n",
        "\n",
        "from scispacy.abbreviation import AbbreviationDetector\n",
        "\n",
        "nlp = spacy.load(\"en_core_sci_sm\")\n",
        "\n",
        "# Add the abbreviation pipe to the spacy pipeline.\n",
        "nlp.add_pipe(\"abbreviation_detector\")\n",
        "\n",
        "doc = nlp(\"Spinal and bulbar muscular atrophy (SBMA) is an \\\n",
        "           inherited motor neuron disease caused by the expansion \\\n",
        "           of a polyglutamine tract within the androgen receptor (AR). \\\n",
        "           SBMA can be caused by this easily.\")\n",
        "\n",
        "print(\"Abbreviation\", \"\\t\", \"Definition\")\n",
        "for abrv in doc._.abbreviations:\n",
        "\tprint(f\"{abrv} \\t ({abrv.start}, {abrv.end}) {abrv._.long_form}\")"
      ],
      "metadata": {
        "colab": {
          "base_uri": "https://localhost:8080/"
        },
        "id": "6O0OX5Y2VwI2",
        "outputId": "816cba8a-6eb7-4db1-8ef5-6e98b6f706c2"
      },
      "execution_count": 5,
      "outputs": [
        {
          "output_type": "stream",
          "name": "stdout",
          "text": [
            "Abbreviation \t Definition\n",
            "SBMA \t (6, 7) Spinal and bulbar muscular atrophy\n",
            "SBMA \t (33, 34) Spinal and bulbar muscular atrophy\n",
            "AR \t (29, 30) androgen receptor\n"
          ]
        }
      ]
    },
    {
      "cell_type": "code",
      "source": [
        "from google.colab import drive\n",
        "drive.mount('/content/drive')"
      ],
      "metadata": {
        "id": "XWeoWUs3yu4b",
        "colab": {
          "base_uri": "https://localhost:8080/"
        },
        "outputId": "1826a160-99e6-4d47-a2f2-20bee73e611c"
      },
      "execution_count": 6,
      "outputs": [
        {
          "output_type": "stream",
          "name": "stdout",
          "text": [
            "Drive already mounted at /content/drive; to attempt to forcibly remount, call drive.mount(\"/content/drive\", force_remount=True).\n"
          ]
        }
      ]
    },
    {
      "cell_type": "code",
      "execution_count": 7,
      "metadata": {
        "id": "MpvqDJPRXI6c"
      },
      "outputs": [],
      "source": [
        "# Read CSV file\n",
        "df = pd.read_csv('/content/drive/MyDrive/StarredPaper/Data/data.csv')\n",
        "df = df.dropna(subset=['text', 'label']) # Remove all rows with missing values\n",
        "df['text'] = df['text'].str.replace(r'[^\\w\\s]+', '', regex=True) # Remove all punctuation\n",
        "df['text'] = df['text'].str.encode('ascii', 'ignore').str.decode('ascii') # Remove all non-ASCII chars\n",
        "df['label'] = df['label'].str.lower()"
      ]
    },
    {
      "cell_type": "code",
      "source": [
        "df"
      ],
      "metadata": {
        "colab": {
          "base_uri": "https://localhost:8080/",
          "height": 424
        },
        "id": "jxvlUkapW10x",
        "outputId": "b4393f29-22b8-46d2-ce0f-1747b20a5993"
      },
      "execution_count": 8,
      "outputs": [
        {
          "output_type": "execute_result",
          "data": {
            "text/plain": [
              "                                                  title  \\\n",
              "0     Due to the recent outbreak for the Coronavirus...   \n",
              "1                                                   NaN   \n",
              "2                                                   NaN   \n",
              "3                                                   NaN   \n",
              "4                                                   NaN   \n",
              "...                                                 ...   \n",
              "1159   Could the Power of the Sun Slow the Coronavirus?   \n",
              "1160  Key evidence for coronavirus spread is flawed ...   \n",
              "1161  Summer Heat May Not Diminish Coronavirus Strength   \n",
              "1162               How Long Will a Vaccine Really Take?   \n",
              "1163  Why Funding the Covid-19 Response Could Be the...   \n",
              "\n",
              "                                                   text  \\\n",
              "0     You just need to add water and the drugs and v...   \n",
              "1     Hydroxychloroquine has been shown to have a 10...   \n",
              "2     Fact Hydroxychloroquine has been shown to have...   \n",
              "3     The Corona virus is a man made virus created i...   \n",
              "4     Doesnt BillGates finance research at the Wuhan...   \n",
              "...                                                 ...   \n",
              "1159  A study suggests that ultraviolet rays could s...   \n",
              "1160  Last week a medical journal reported that a bu...   \n",
              "1161  A new report sent to the White House science a...   \n",
              "1162  A vaccine would be the ultimate weapon against...   \n",
              "1163  Developing and delivering coronavirus vaccines...   \n",
              "\n",
              "                         source label  \n",
              "0     coronavirusmedicalkit.com  fake  \n",
              "1                  RudyGiuliani  fake  \n",
              "2                   CharlieKirk  fake  \n",
              "3       JoanneWrightForCongress  fake  \n",
              "4       JoanneWrightForCongress  fake  \n",
              "...                         ...   ...  \n",
              "1159   https://www.nytimes.com/  true  \n",
              "1160   https://www.nytimes.com/  true  \n",
              "1161   https://www.nytimes.com/  true  \n",
              "1162   https://www.nytimes.com/  true  \n",
              "1163   https://www.nytimes.com/  true  \n",
              "\n",
              "[1151 rows x 4 columns]"
            ],
            "text/html": [
              "\n",
              "  <div id=\"df-5b641d48-9763-43e3-8042-9459ede73374\" class=\"colab-df-container\">\n",
              "    <div>\n",
              "<style scoped>\n",
              "    .dataframe tbody tr th:only-of-type {\n",
              "        vertical-align: middle;\n",
              "    }\n",
              "\n",
              "    .dataframe tbody tr th {\n",
              "        vertical-align: top;\n",
              "    }\n",
              "\n",
              "    .dataframe thead th {\n",
              "        text-align: right;\n",
              "    }\n",
              "</style>\n",
              "<table border=\"1\" class=\"dataframe\">\n",
              "  <thead>\n",
              "    <tr style=\"text-align: right;\">\n",
              "      <th></th>\n",
              "      <th>title</th>\n",
              "      <th>text</th>\n",
              "      <th>source</th>\n",
              "      <th>label</th>\n",
              "    </tr>\n",
              "  </thead>\n",
              "  <tbody>\n",
              "    <tr>\n",
              "      <th>0</th>\n",
              "      <td>Due to the recent outbreak for the Coronavirus...</td>\n",
              "      <td>You just need to add water and the drugs and v...</td>\n",
              "      <td>coronavirusmedicalkit.com</td>\n",
              "      <td>fake</td>\n",
              "    </tr>\n",
              "    <tr>\n",
              "      <th>1</th>\n",
              "      <td>NaN</td>\n",
              "      <td>Hydroxychloroquine has been shown to have a 10...</td>\n",
              "      <td>RudyGiuliani</td>\n",
              "      <td>fake</td>\n",
              "    </tr>\n",
              "    <tr>\n",
              "      <th>2</th>\n",
              "      <td>NaN</td>\n",
              "      <td>Fact Hydroxychloroquine has been shown to have...</td>\n",
              "      <td>CharlieKirk</td>\n",
              "      <td>fake</td>\n",
              "    </tr>\n",
              "    <tr>\n",
              "      <th>3</th>\n",
              "      <td>NaN</td>\n",
              "      <td>The Corona virus is a man made virus created i...</td>\n",
              "      <td>JoanneWrightForCongress</td>\n",
              "      <td>fake</td>\n",
              "    </tr>\n",
              "    <tr>\n",
              "      <th>4</th>\n",
              "      <td>NaN</td>\n",
              "      <td>Doesnt BillGates finance research at the Wuhan...</td>\n",
              "      <td>JoanneWrightForCongress</td>\n",
              "      <td>fake</td>\n",
              "    </tr>\n",
              "    <tr>\n",
              "      <th>...</th>\n",
              "      <td>...</td>\n",
              "      <td>...</td>\n",
              "      <td>...</td>\n",
              "      <td>...</td>\n",
              "    </tr>\n",
              "    <tr>\n",
              "      <th>1159</th>\n",
              "      <td>Could the Power of the Sun Slow the Coronavirus?</td>\n",
              "      <td>A study suggests that ultraviolet rays could s...</td>\n",
              "      <td>https://www.nytimes.com/</td>\n",
              "      <td>true</td>\n",
              "    </tr>\n",
              "    <tr>\n",
              "      <th>1160</th>\n",
              "      <td>Key evidence for coronavirus spread is flawed ...</td>\n",
              "      <td>Last week a medical journal reported that a bu...</td>\n",
              "      <td>https://www.nytimes.com/</td>\n",
              "      <td>true</td>\n",
              "    </tr>\n",
              "    <tr>\n",
              "      <th>1161</th>\n",
              "      <td>Summer Heat May Not Diminish Coronavirus Strength</td>\n",
              "      <td>A new report sent to the White House science a...</td>\n",
              "      <td>https://www.nytimes.com/</td>\n",
              "      <td>true</td>\n",
              "    </tr>\n",
              "    <tr>\n",
              "      <th>1162</th>\n",
              "      <td>How Long Will a Vaccine Really Take?</td>\n",
              "      <td>A vaccine would be the ultimate weapon against...</td>\n",
              "      <td>https://www.nytimes.com/</td>\n",
              "      <td>true</td>\n",
              "    </tr>\n",
              "    <tr>\n",
              "      <th>1163</th>\n",
              "      <td>Why Funding the Covid-19 Response Could Be the...</td>\n",
              "      <td>Developing and delivering coronavirus vaccines...</td>\n",
              "      <td>https://www.nytimes.com/</td>\n",
              "      <td>true</td>\n",
              "    </tr>\n",
              "  </tbody>\n",
              "</table>\n",
              "<p>1151 rows × 4 columns</p>\n",
              "</div>\n",
              "    <div class=\"colab-df-buttons\">\n",
              "\n",
              "  <div class=\"colab-df-container\">\n",
              "    <button class=\"colab-df-convert\" onclick=\"convertToInteractive('df-5b641d48-9763-43e3-8042-9459ede73374')\"\n",
              "            title=\"Convert this dataframe to an interactive table.\"\n",
              "            style=\"display:none;\">\n",
              "\n",
              "  <svg xmlns=\"http://www.w3.org/2000/svg\" height=\"24px\" viewBox=\"0 -960 960 960\">\n",
              "    <path d=\"M120-120v-720h720v720H120Zm60-500h600v-160H180v160Zm220 220h160v-160H400v160Zm0 220h160v-160H400v160ZM180-400h160v-160H180v160Zm440 0h160v-160H620v160ZM180-180h160v-160H180v160Zm440 0h160v-160H620v160Z\"/>\n",
              "  </svg>\n",
              "    </button>\n",
              "\n",
              "  <style>\n",
              "    .colab-df-container {\n",
              "      display:flex;\n",
              "      gap: 12px;\n",
              "    }\n",
              "\n",
              "    .colab-df-convert {\n",
              "      background-color: #E8F0FE;\n",
              "      border: none;\n",
              "      border-radius: 50%;\n",
              "      cursor: pointer;\n",
              "      display: none;\n",
              "      fill: #1967D2;\n",
              "      height: 32px;\n",
              "      padding: 0 0 0 0;\n",
              "      width: 32px;\n",
              "    }\n",
              "\n",
              "    .colab-df-convert:hover {\n",
              "      background-color: #E2EBFA;\n",
              "      box-shadow: 0px 1px 2px rgba(60, 64, 67, 0.3), 0px 1px 3px 1px rgba(60, 64, 67, 0.15);\n",
              "      fill: #174EA6;\n",
              "    }\n",
              "\n",
              "    .colab-df-buttons div {\n",
              "      margin-bottom: 4px;\n",
              "    }\n",
              "\n",
              "    [theme=dark] .colab-df-convert {\n",
              "      background-color: #3B4455;\n",
              "      fill: #D2E3FC;\n",
              "    }\n",
              "\n",
              "    [theme=dark] .colab-df-convert:hover {\n",
              "      background-color: #434B5C;\n",
              "      box-shadow: 0px 1px 3px 1px rgba(0, 0, 0, 0.15);\n",
              "      filter: drop-shadow(0px 1px 2px rgba(0, 0, 0, 0.3));\n",
              "      fill: #FFFFFF;\n",
              "    }\n",
              "  </style>\n",
              "\n",
              "    <script>\n",
              "      const buttonEl =\n",
              "        document.querySelector('#df-5b641d48-9763-43e3-8042-9459ede73374 button.colab-df-convert');\n",
              "      buttonEl.style.display =\n",
              "        google.colab.kernel.accessAllowed ? 'block' : 'none';\n",
              "\n",
              "      async function convertToInteractive(key) {\n",
              "        const element = document.querySelector('#df-5b641d48-9763-43e3-8042-9459ede73374');\n",
              "        const dataTable =\n",
              "          await google.colab.kernel.invokeFunction('convertToInteractive',\n",
              "                                                    [key], {});\n",
              "        if (!dataTable) return;\n",
              "\n",
              "        const docLinkHtml = 'Like what you see? Visit the ' +\n",
              "          '<a target=\"_blank\" href=https://colab.research.google.com/notebooks/data_table.ipynb>data table notebook</a>'\n",
              "          + ' to learn more about interactive tables.';\n",
              "        element.innerHTML = '';\n",
              "        dataTable['output_type'] = 'display_data';\n",
              "        await google.colab.output.renderOutput(dataTable, element);\n",
              "        const docLink = document.createElement('div');\n",
              "        docLink.innerHTML = docLinkHtml;\n",
              "        element.appendChild(docLink);\n",
              "      }\n",
              "    </script>\n",
              "  </div>\n",
              "\n",
              "\n",
              "<div id=\"df-3eab0966-0ec4-4f9a-a93d-58444aa7b909\">\n",
              "  <button class=\"colab-df-quickchart\" onclick=\"quickchart('df-3eab0966-0ec4-4f9a-a93d-58444aa7b909')\"\n",
              "            title=\"Suggest charts\"\n",
              "            style=\"display:none;\">\n",
              "\n",
              "<svg xmlns=\"http://www.w3.org/2000/svg\" height=\"24px\"viewBox=\"0 0 24 24\"\n",
              "     width=\"24px\">\n",
              "    <g>\n",
              "        <path d=\"M19 3H5c-1.1 0-2 .9-2 2v14c0 1.1.9 2 2 2h14c1.1 0 2-.9 2-2V5c0-1.1-.9-2-2-2zM9 17H7v-7h2v7zm4 0h-2V7h2v10zm4 0h-2v-4h2v4z\"/>\n",
              "    </g>\n",
              "</svg>\n",
              "  </button>\n",
              "\n",
              "<style>\n",
              "  .colab-df-quickchart {\n",
              "      --bg-color: #E8F0FE;\n",
              "      --fill-color: #1967D2;\n",
              "      --hover-bg-color: #E2EBFA;\n",
              "      --hover-fill-color: #174EA6;\n",
              "      --disabled-fill-color: #AAA;\n",
              "      --disabled-bg-color: #DDD;\n",
              "  }\n",
              "\n",
              "  [theme=dark] .colab-df-quickchart {\n",
              "      --bg-color: #3B4455;\n",
              "      --fill-color: #D2E3FC;\n",
              "      --hover-bg-color: #434B5C;\n",
              "      --hover-fill-color: #FFFFFF;\n",
              "      --disabled-bg-color: #3B4455;\n",
              "      --disabled-fill-color: #666;\n",
              "  }\n",
              "\n",
              "  .colab-df-quickchart {\n",
              "    background-color: var(--bg-color);\n",
              "    border: none;\n",
              "    border-radius: 50%;\n",
              "    cursor: pointer;\n",
              "    display: none;\n",
              "    fill: var(--fill-color);\n",
              "    height: 32px;\n",
              "    padding: 0;\n",
              "    width: 32px;\n",
              "  }\n",
              "\n",
              "  .colab-df-quickchart:hover {\n",
              "    background-color: var(--hover-bg-color);\n",
              "    box-shadow: 0 1px 2px rgba(60, 64, 67, 0.3), 0 1px 3px 1px rgba(60, 64, 67, 0.15);\n",
              "    fill: var(--button-hover-fill-color);\n",
              "  }\n",
              "\n",
              "  .colab-df-quickchart-complete:disabled,\n",
              "  .colab-df-quickchart-complete:disabled:hover {\n",
              "    background-color: var(--disabled-bg-color);\n",
              "    fill: var(--disabled-fill-color);\n",
              "    box-shadow: none;\n",
              "  }\n",
              "\n",
              "  .colab-df-spinner {\n",
              "    border: 2px solid var(--fill-color);\n",
              "    border-color: transparent;\n",
              "    border-bottom-color: var(--fill-color);\n",
              "    animation:\n",
              "      spin 1s steps(1) infinite;\n",
              "  }\n",
              "\n",
              "  @keyframes spin {\n",
              "    0% {\n",
              "      border-color: transparent;\n",
              "      border-bottom-color: var(--fill-color);\n",
              "      border-left-color: var(--fill-color);\n",
              "    }\n",
              "    20% {\n",
              "      border-color: transparent;\n",
              "      border-left-color: var(--fill-color);\n",
              "      border-top-color: var(--fill-color);\n",
              "    }\n",
              "    30% {\n",
              "      border-color: transparent;\n",
              "      border-left-color: var(--fill-color);\n",
              "      border-top-color: var(--fill-color);\n",
              "      border-right-color: var(--fill-color);\n",
              "    }\n",
              "    40% {\n",
              "      border-color: transparent;\n",
              "      border-right-color: var(--fill-color);\n",
              "      border-top-color: var(--fill-color);\n",
              "    }\n",
              "    60% {\n",
              "      border-color: transparent;\n",
              "      border-right-color: var(--fill-color);\n",
              "    }\n",
              "    80% {\n",
              "      border-color: transparent;\n",
              "      border-right-color: var(--fill-color);\n",
              "      border-bottom-color: var(--fill-color);\n",
              "    }\n",
              "    90% {\n",
              "      border-color: transparent;\n",
              "      border-bottom-color: var(--fill-color);\n",
              "    }\n",
              "  }\n",
              "</style>\n",
              "\n",
              "  <script>\n",
              "    async function quickchart(key) {\n",
              "      const quickchartButtonEl =\n",
              "        document.querySelector('#' + key + ' button');\n",
              "      quickchartButtonEl.disabled = true;  // To prevent multiple clicks.\n",
              "      quickchartButtonEl.classList.add('colab-df-spinner');\n",
              "      try {\n",
              "        const charts = await google.colab.kernel.invokeFunction(\n",
              "            'suggestCharts', [key], {});\n",
              "      } catch (error) {\n",
              "        console.error('Error during call to suggestCharts:', error);\n",
              "      }\n",
              "      quickchartButtonEl.classList.remove('colab-df-spinner');\n",
              "      quickchartButtonEl.classList.add('colab-df-quickchart-complete');\n",
              "    }\n",
              "    (() => {\n",
              "      let quickchartButtonEl =\n",
              "        document.querySelector('#df-3eab0966-0ec4-4f9a-a93d-58444aa7b909 button');\n",
              "      quickchartButtonEl.style.display =\n",
              "        google.colab.kernel.accessAllowed ? 'block' : 'none';\n",
              "    })();\n",
              "  </script>\n",
              "</div>\n",
              "\n",
              "  <div id=\"id_7f60f63f-bd08-4099-bb06-0aad4689560d\">\n",
              "    <style>\n",
              "      .colab-df-generate {\n",
              "        background-color: #E8F0FE;\n",
              "        border: none;\n",
              "        border-radius: 50%;\n",
              "        cursor: pointer;\n",
              "        display: none;\n",
              "        fill: #1967D2;\n",
              "        height: 32px;\n",
              "        padding: 0 0 0 0;\n",
              "        width: 32px;\n",
              "      }\n",
              "\n",
              "      .colab-df-generate:hover {\n",
              "        background-color: #E2EBFA;\n",
              "        box-shadow: 0px 1px 2px rgba(60, 64, 67, 0.3), 0px 1px 3px 1px rgba(60, 64, 67, 0.15);\n",
              "        fill: #174EA6;\n",
              "      }\n",
              "\n",
              "      [theme=dark] .colab-df-generate {\n",
              "        background-color: #3B4455;\n",
              "        fill: #D2E3FC;\n",
              "      }\n",
              "\n",
              "      [theme=dark] .colab-df-generate:hover {\n",
              "        background-color: #434B5C;\n",
              "        box-shadow: 0px 1px 3px 1px rgba(0, 0, 0, 0.15);\n",
              "        filter: drop-shadow(0px 1px 2px rgba(0, 0, 0, 0.3));\n",
              "        fill: #FFFFFF;\n",
              "      }\n",
              "    </style>\n",
              "    <button class=\"colab-df-generate\" onclick=\"generateWithVariable('df')\"\n",
              "            title=\"Generate code using this dataframe.\"\n",
              "            style=\"display:none;\">\n",
              "\n",
              "  <svg xmlns=\"http://www.w3.org/2000/svg\" height=\"24px\"viewBox=\"0 0 24 24\"\n",
              "       width=\"24px\">\n",
              "    <path d=\"M7,19H8.4L18.45,9,17,7.55,7,17.6ZM5,21V16.75L18.45,3.32a2,2,0,0,1,2.83,0l1.4,1.43a1.91,1.91,0,0,1,.58,1.4,1.91,1.91,0,0,1-.58,1.4L9.25,21ZM18.45,9,17,7.55Zm-12,3A5.31,5.31,0,0,0,4.9,8.1,5.31,5.31,0,0,0,1,6.5,5.31,5.31,0,0,0,4.9,4.9,5.31,5.31,0,0,0,6.5,1,5.31,5.31,0,0,0,8.1,4.9,5.31,5.31,0,0,0,12,6.5,5.46,5.46,0,0,0,6.5,12Z\"/>\n",
              "  </svg>\n",
              "    </button>\n",
              "    <script>\n",
              "      (() => {\n",
              "      const buttonEl =\n",
              "        document.querySelector('#id_7f60f63f-bd08-4099-bb06-0aad4689560d button.colab-df-generate');\n",
              "      buttonEl.style.display =\n",
              "        google.colab.kernel.accessAllowed ? 'block' : 'none';\n",
              "\n",
              "      buttonEl.onclick = () => {\n",
              "        google.colab.notebook.generateWithVariable('df');\n",
              "      }\n",
              "      })();\n",
              "    </script>\n",
              "  </div>\n",
              "\n",
              "    </div>\n",
              "  </div>\n"
            ],
            "application/vnd.google.colaboratory.intrinsic+json": {
              "type": "dataframe",
              "variable_name": "df",
              "summary": "{\n  \"name\": \"df\",\n  \"rows\": 1151,\n  \"fields\": [\n    {\n      \"column\": \"title\",\n      \"properties\": {\n        \"dtype\": \"string\",\n        \"num_unique_values\": 962,\n        \"samples\": [\n          \"The Dengvaxia Disaster Was Twenty Years in the Making\\u2014What Will Happen With a Rushed COVID-19 Vaccine?\",\n          \"Vitamin C Saves Wuhan Family from COVID-19\",\n          \"A Shocking Update. Did The Virus Originate in the U.S.?\"\n        ],\n        \"semantic_type\": \"\",\n        \"description\": \"\"\n      }\n    },\n    {\n      \"column\": \"text\",\n      \"properties\": {\n        \"dtype\": \"string\",\n        \"num_unique_values\": 1109,\n        \"samples\": [\n          \"The most commonly reported mainstream media account of the creation of the Coronavirus suggests that it was derived from an animal borne microorganism found in a wild bat that was consumed by an ethnic Chinese resident of Wuhan But there appears to be some evidence to dispute that in that adjacent provinces in China where wild bats are more numerous have not experienced major outbreaks of the disease Because of that and other factors there has also been considerable speculation that the Coronavirus did not occur naturally through mutation but rather was produced in a laboratory possibly as a biological warfare agentSeveral reports suggest that there are components of the virus that are related to HIV that could not have occurred naturally If it is correct that the virus had either been developed or even produced to be weaponized it would further suggest that its escape from the Wuhan Institute of Virology Lab and into the animal and human population could have been accidental Technicians who work in such environments are aware that leaks from laboratories occur frequentlyThere is of course and inevitably another theory There has been some speculation that as the Trump Administration has been constantly raising the issue of growing Chinese global competitiveness as a direct threat to American national security and economic dominance it must might be possible that Washington has created and unleashed the virus in a bid to bring Beijings growing economy and military might down a few notches It is to be sure hard to believe that even the Trump White House would do something so reckless but there are precedents for that type of behavior In 20059 the American and Israeli governments secretly developed a computer virus called Stuxnet which was intended to damage the control and operating systems of Iranian computers being used in that countrys nuclear research program Admittedly Stuxnet was intended to damage computers not to infect or kill human beings but concerns that it would propagate and move to infect computers outside Iran proved to be accurate as it spread to thousands of PCs outside Iran in countries as far flung as China Germany Kazakhstan and IndonesiaInevitably there is an Israeli story that just might shed some light on what has been going on in China Scientists at Israels Galilee Research Institute are now claiming that they will have a vaccine against coronavirus in a few weeks which will be ready for distribution and use within 90 days The institute is claiming that it has been engaged in four years of research on avian coronavirus funded by Israels Ministries of Science  Technology and Agriculture They are claiming that the virus is similar to the version that has infected humans which has led to breakthroughs in development through genetic manipulation but some scientists are skeptical that a new vaccine could be produced so quickly to prevent a virus that existed only recently They also have warned that even if a vaccine is developed it would normally have to be tested for side effects a process that normally takes over a year and includes using it on infected humansIf one even considers it possible that the United States had a hand in creating the coronavirus at what remains of its once extensive biological weapons research center in Ft Detrick Maryland it is very likely that Israel was a partner in the project Helping to develop the virus would also explain how Israeli scientists have been able to claim success at creating a vaccine so quickly possibly because the virus and a treatment for it were developed simultaneouslyIn any event there are definite political ramifications to the appearance of the coronavirus and not only in China In the United States President Donald Trump is already being blamed for lying about the virus and there are various scenarios in mainstream publications speculating over the possible impact on the election in 2020 If the economy sinks together with the stock market it will reflect badly on Trump whether or not he is actually at fault If containment and treatment of the disease itself in the United States does not go well there could also be a considerable backlash particularly as the Democrats have been promoting improving health care One pundit argues however that disease and a sinking economy will not matter as long as there is a turnaround before the election but a lot can happen in the next eight monthsAnd then there is the national securityforeign policy issue as seen from both Jerusalem and Washington It is difficult to explain why coronavirus has hit one country in particular other than China very severely That country is Iran the oftencited enemy of both the US and Israel The number of Irans coronavirus cases continues to increase with more positive tests confirmed among government officials last Saturday There were 205 new coronavirus cases bringing the government claimed total to 593 with 43 fatalities though unofficial hospital reports suggest that the deaths are actually well over 100 Thats the highest number of deaths from the virus outside of ChinaNo less than five Iranian Members of Parliament have also tested positive amid a growing number of officials that have contracted the disease Irans vice president Masoumeh Ebtekar and deputy health minister Iraj Harirchi had also previously been confirmed with the virusThe usual suspects in the United States are delighted to learn of the Iranian deaths Mark Dubowitz Executive Director of the Washingtonbased but Israeli government connected Foundation for Defense of Democracies FDD boasted on twitter Tuesday that Coronavirus has done what American economic sanctions could not shut down nonoil exports An Iranian government spokesman responded that Its shameful and downright inhuman to cheer for a deadly Virus to spread  and enjoy seeing people suffer for it Dubowitz followed up with an additional taunt that Tehran has spread terrorism in the Middle East and now its spreading the coronavirusSo you have your choice Coronavirus occurred naturally or it came out of a lab in China itself or even from Israel or the United States If one suspects Israel andor the United States the intent clearly would have been to create a biological weapon that would damage two nations that have been designated as enemies But the coronavirus cannot be contained easily and it is clear that many thousands of people will die from it Unfortunately as with Stuxnet once the genie is out of the bottled it is devilishly hard to induce it to go back in\",\n          \"Children make up a very small proportion of reported COVID19 cases with about 1 of all cases reported being under 10 years and 4 aged 1019 years Children appear as likely to be infected as adults but they have a much lower risk than adults of developing symptoms or severe disease There is still some uncertainty about the extent to which asymptomatic or mildly symptomatic children transmit disease\",\n          \"The European Commission is coordinating a common European response  to the Coronavirus outbreak We are taking resolute action to reinforce our public health sectors and mitigate the socioeconomic impact in the European Union We are mobilising all means at our disposal to help our Member States coordinate their national responses and are providing objective information about the spread of the virus and effective efforts to contain it \\n\\nPresident von der Leyen has established a Coronavirus response team at political level to coordinate our response to the pandemic\\n\\nDuring these times of crisis across the European Union countries regions and cities are stretching out a helping hand to neighbours and assistance is given to those most in need donations of protective equipment such as masks crossborder treatments of ill patients and bringing stranded citizens home This is European solidarity at its best\"\n        ],\n        \"semantic_type\": \"\",\n        \"description\": \"\"\n      }\n    },\n    {\n      \"column\": \"source\",\n      \"properties\": {\n        \"dtype\": \"category\",\n        \"num_unique_values\": 267,\n        \"samples\": [\n          \"https://www.naturalhealth365.com/\",\n          \"https://www.activistpost.com/\",\n          \"https://www.outlookindia.com/\"\n        ],\n        \"semantic_type\": \"\",\n        \"description\": \"\"\n      }\n    },\n    {\n      \"column\": \"label\",\n      \"properties\": {\n        \"dtype\": \"category\",\n        \"num_unique_values\": 2,\n        \"samples\": [\n          \"true\",\n          \"fake\"\n        ],\n        \"semantic_type\": \"\",\n        \"description\": \"\"\n      }\n    }\n  ]\n}"
            }
          },
          "metadata": {},
          "execution_count": 8
        }
      ]
    },
    {
      "cell_type": "code",
      "source": [
        "from sklearn.feature_extraction.text import TfidfVectorizer\n",
        "\n",
        "# Extract features from the \"text\" column\n",
        "features = []\n",
        "for text in df[\"text\"]:\n",
        "    doc = nlp(text)\n",
        "    lemmatized_tokens = [token.lemma_ for token in doc if not token.is_stop and token.is_alpha]\n",
        "    preprocessed_text = ' '.join(lemmatized_tokens)\n",
        "    features.append(preprocessed_text)\n",
        "# Pad the sequences to a fixed length\n",
        "# max_length = max([len(feature) for feature in features])\n"
      ],
      "metadata": {
        "colab": {
          "base_uri": "https://localhost:8080/"
        },
        "id": "fPt145vbLsjO",
        "outputId": "042d7d24-b85d-424b-e93e-f738d943dda0"
      },
      "execution_count": 9,
      "outputs": [
        {
          "output_type": "stream",
          "name": "stderr",
          "text": [
            "/usr/local/lib/python3.10/dist-packages/scispacy/abbreviation.py:248: UserWarning: [W036] The component 'matcher' does not have any patterns defined.\n",
            "  global_matches = self.global_matcher(doc)\n"
          ]
        }
      ]
    },
    {
      "cell_type": "code",
      "source": [
        "tfidf_features = TfidfVectorizer().fit_transform(features)\n",
        "\n",
        "# Convert the sparse matrix to a dense array for inspection\n",
        "tfidf_features_array = tfidf_features.toarray()\n",
        "\n",
        "# Print the extracted features\n",
        "print(\"Extracted TF-IDF features:\")\n",
        "print(tfidf_features_array)"
      ],
      "metadata": {
        "colab": {
          "base_uri": "https://localhost:8080/"
        },
        "id": "HBSOBa7reCLA",
        "outputId": "180e6a22-9cfd-403b-a745-496da8be1dbc"
      },
      "execution_count": 10,
      "outputs": [
        {
          "output_type": "stream",
          "name": "stdout",
          "text": [
            "Extracted TF-IDF features:\n",
            "[[0. 0. 0. ... 0. 0. 0.]\n",
            " [0. 0. 0. ... 0. 0. 0.]\n",
            " [0. 0. 0. ... 0. 0. 0.]\n",
            " ...\n",
            " [0. 0. 0. ... 0. 0. 0.]\n",
            " [0. 0. 0. ... 0. 0. 0.]\n",
            " [0. 0. 0. ... 0. 0. 0.]]\n"
          ]
        }
      ]
    },
    {
      "cell_type": "code",
      "source": [
        "# features = pad_sequences(features, maxlen=max_length, padding=\"post\")"
      ],
      "metadata": {
        "id": "PzDA1FleUz8x"
      },
      "execution_count": 11,
      "outputs": []
    },
    {
      "cell_type": "code",
      "source": [
        "# Extract the labels from the DataFrame (assuming they exist)\n",
        "\n",
        "# Map string labels to numeric values\n",
        "label_mapping = {'true': 0, 'fake': 1}\n",
        "df['label'] = df['label'].map(label_mapping)"
      ],
      "metadata": {
        "id": "ibWOsadzNOXz"
      },
      "execution_count": 12,
      "outputs": []
    },
    {
      "cell_type": "code",
      "source": [
        "labels = df[\"label\"].values"
      ],
      "metadata": {
        "id": "kJ7mdrLMggM4"
      },
      "execution_count": 13,
      "outputs": []
    },
    {
      "cell_type": "code",
      "source": [
        "labels"
      ],
      "metadata": {
        "colab": {
          "base_uri": "https://localhost:8080/"
        },
        "id": "p9PKF_VohOVN",
        "outputId": "227e9b52-57a1-4825-e418-70d5e282037a"
      },
      "execution_count": 14,
      "outputs": [
        {
          "output_type": "execute_result",
          "data": {
            "text/plain": [
              "array([1, 1, 1, ..., 0, 0, 0])"
            ]
          },
          "metadata": {},
          "execution_count": 14
        }
      ]
    },
    {
      "cell_type": "code",
      "source": [
        "X_train, X_test, y_train, y_test = train_test_split(tfidf_features_array, labels, test_size=0.2, random_state=42)"
      ],
      "metadata": {
        "id": "I4FTdWTUgifS"
      },
      "execution_count": 15,
      "outputs": []
    },
    {
      "cell_type": "code",
      "source": [
        "# Build the model\n",
        "model = Sequential()\n",
        "model.add(Embedding(input_dim=tfidf_features_array.shape[1], output_dim=128))  # Input dimension should match the number of features\n",
        "model.add(LSTM(128, dropout=0.2, recurrent_dropout=0.2))\n",
        "model.add(Dense(1, activation=\"sigmoid\"))\n",
        "\n",
        "model.compile(loss=\"binary_crossentropy\", optimizer=\"adam\", metrics=[\"accuracy\"])"
      ],
      "metadata": {
        "id": "cqPc44uUsmrh"
      },
      "execution_count": 16,
      "outputs": []
    },
    {
      "cell_type": "code",
      "source": [
        "# Define early stopping callback\n",
        "early_stopping = EarlyStopping(monitor='val_loss', patience=3, restore_best_weights=True)\n",
        "\n",
        "# Train the model\n",
        "history = model.fit(X_train, y_train, epochs=10, batch_size=64, validation_data=(X_test, y_test), verbose=2, callbacks=[early_stopping])"
      ],
      "metadata": {
        "colab": {
          "base_uri": "https://localhost:8080/"
        },
        "id": "F4Nx-pVWNaja",
        "outputId": "3772180d-8a67-4fa2-81ca-292b10f993e1"
      },
      "execution_count": null,
      "outputs": [
        {
          "output_type": "stream",
          "name": "stdout",
          "text": [
            "Epoch 1/10\n"
          ]
        }
      ]
    },
    {
      "cell_type": "code",
      "source": [
        "loss, accuracy = model.evaluate(X_test, y_test)\n",
        "print(\"Loss:\", loss)\n",
        "print(\"Accuracy:\", accuracy)"
      ],
      "metadata": {
        "id": "7ZQVBecg40cf"
      },
      "execution_count": null,
      "outputs": []
    },
    {
      "cell_type": "code",
      "source": [
        "# Predict probabilities\n",
        "y_pred_probs = model.predict(X_test)\n",
        "\n",
        "# Convert probabilities to class predictions\n",
        "y_pred_classes = (y_pred_probs > 0.5).astype(int)"
      ],
      "metadata": {
        "id": "k2xXAcAPmVE7"
      },
      "execution_count": null,
      "outputs": []
    },
    {
      "cell_type": "code",
      "source": [
        "\n",
        "\n",
        "# Calculate evaluation metrics\n",
        "accuracy = accuracy_score(y_test, y_pred_classes)\n",
        "precision = precision_score(y_test, y_pred_classes)\n",
        "recall = recall_score(y_test, y_pred_classes)\n",
        "f1 = f1_score(y_test, y_pred_classes)\n",
        "\n",
        "print(\"Accuracy:\", accuracy)\n",
        "print(\"Precision:\", precision)\n",
        "print(\"Recall:\", recall)\n",
        "print(\"F1 Score:\", f1)\n",
        "\n",
        "# Generate confusion matrix\n",
        "cm = confusion_matrix(y_test, y_pred_classes)\n",
        "\n",
        "# Plot confusion matrix\n",
        "plt.figure(figsize=(8, 6))\n",
        "sns.heatmap(cm, annot=True, fmt='d', cmap='Blues', cbar=False)\n",
        "plt.xlabel('Predicted Labels')\n",
        "plt.ylabel('True Labels')\n",
        "plt.title('Confusion Matrix')\n",
        "plt.show()\n"
      ],
      "metadata": {
        "id": "McpKUv5ymEze"
      },
      "execution_count": null,
      "outputs": []
    }
  ],
  "metadata": {
    "colab": {
      "provenance": [],
      "mount_file_id": "1F8FkSKQf8Lyzv-hPNfnAc79EsOdWU8DG",
      "authorship_tag": "ABX9TyOAA5mSt+MELYlbBhgZJwgF",
      "include_colab_link": true
    },
    "kernelspec": {
      "display_name": "Python 3",
      "name": "python3"
    },
    "language_info": {
      "name": "python"
    }
  },
  "nbformat": 4,
  "nbformat_minor": 0
}